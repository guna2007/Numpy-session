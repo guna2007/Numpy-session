{
 "cells": [
  {
   "cell_type": "markdown",
   "id": "bea2ef99-6a57-48a7-bc1c-f7822a6d229f",
   "metadata": {},
   "source": [
    "# Demo Session 1\n",
    "## Why Numpy?\n",
    "### Python list is Flexible but not Fast\n"
   ]
  },
  {
   "cell_type": "code",
   "execution_count": 1,
   "id": "5615c723-80d7-4624-9734-ea5286df359d",
   "metadata": {},
   "outputs": [
    {
     "name": "stdout",
     "output_type": "stream",
     "text": [
      "List: [1, 2, 3, 4, 5]\n",
      "Type of first element: <class 'int'>\n",
      "Memory per element: 28\n",
      "Total memory: 104\n"
     ]
    }
   ],
   "source": [
    "import sys\n",
    "\n",
    "l = [1, 2, 3, 4, 5]\n",
    "print(\"List:\", l)\n",
    "print(\"Type of 1st ele:\", type(lst[0]))\n",
    "print(\"Memory per ele:\", sys.getsizeof(lst[0]))\n",
    "print(\"Total memory:\", sys.getsizeof(lst))\n"
   ]
  },
  {
   "cell_type": "markdown",
   "id": "6c431189-d75d-49d6-8370-ec3697ec378c",
   "metadata": {},
   "source": [
    "### Python array Module – Fixed Type but Limited"
   ]
  },
  {
   "cell_type": "code",
   "execution_count": 4,
   "id": "5b61e6c3-d61a-44ba-8d70-a839bdae8601",
   "metadata": {},
   "outputs": [
    {
     "name": "stdout",
     "output_type": "stream",
     "text": [
      "Array: array('i', [1, 2, 3, 4, 5])\n",
      "Type of first element: <class 'int'>\n"
     ]
    }
   ],
   "source": [
    "import array\n",
    "\n",
    "arr = array.array('i', [1, 2, 3, 4, 5])\n",
    "print(\"Array:\", arr)\n",
    "print(\"Type of first element:\", type(arr[0]))\n"
   ]
  },
  {
   "cell_type": "markdown",
   "id": "751c16b9-89d5-4413-b951-5347d6295c50",
   "metadata": {},
   "source": [
    "### NumPy Arrays – Fast, Compact, Powerful"
   ]
  },
  {
   "cell_type": "code",
   "execution_count": 5,
   "id": "dba7cc06-4fa0-444e-9908-63abe98f5671",
   "metadata": {},
   "outputs": [
    {
     "name": "stdout",
     "output_type": "stream",
     "text": [
      "NumPy Array: [1 2 3 4 5]\n",
      "Type of first element: <class 'numpy.int64'>\n",
      "Memory per element: 8\n",
      "Total memory: 40\n"
     ]
    }
   ],
   "source": [
    "import numpy as np\n",
    "\n",
    "np_arr = np.array([1, 2, 3, 4, 5])\n",
    "print(\"NumPy Array:\", np_arr)\n",
    "print(\"Type of first element:\", type(np_arr[0]))\n",
    "print(\"Memory per element:\", np_arr.itemsize)\n",
    "print(\"Total memory:\", np_arr.nbytes)\n"
   ]
  },
  {
   "cell_type": "markdown",
   "id": "8fb8ca00-b475-4a52-a53c-a2f0c00b6c1f",
   "metadata": {},
   "source": [
    "### Performance Comparison"
   ]
  },
  {
   "cell_type": "code",
   "execution_count": 11,
   "id": "39f11544-707c-46a7-9e94-ae97d25630f3",
   "metadata": {},
   "outputs": [
    {
     "name": "stdout",
     "output_type": "stream",
     "text": [
      "Python list sum time: 0.009799718856811523\n",
      "NumPy array sum time: 0.0\n"
     ]
    }
   ],
   "source": [
    "import time\n",
    "\n",
    "big_list = list(range(1000000))\n",
    "start = time.time()\n",
    "sum(big_list)\n",
    "print(\"Python list sum time:\", time.time() - start)\n",
    "\n",
    "big_np = np.arange(1000000)\n",
    "start = time.time()\n",
    "np.sum(big_np)\n",
    "print(\"NumPy array sum time:\", time.time() - start)\n"
   ]
  },
  {
   "cell_type": "markdown",
   "id": "7e63c0e8-9e51-4194-82cd-cf45946e72ba",
   "metadata": {},
   "source": [
    "### Questions\n",
    "#### What happens if you mix types in a NumPy array?\n"
   ]
  },
  {
   "cell_type": "code",
   "execution_count": 12,
   "id": "1b49861c-463e-4391-a57a-9450b83504fd",
   "metadata": {},
   "outputs": [
    {
     "name": "stdout",
     "output_type": "stream",
     "text": [
      "['1' '2.5' 'three']\n",
      "<U32\n"
     ]
    }
   ],
   "source": [
    "import numpy as np\n",
    "\n",
    "arr = np.array([1, 2.5, 'three'])\n",
    "print(arr)           \n",
    "print(arr.dtype)     # <U32 (Unicode string)\n"
   ]
  },
  {
   "cell_type": "markdown",
   "id": "ba0fb2fc-8f0d-42b9-8c2c-a01783a768b3",
   "metadata": {},
   "source": [
    "#### Can you do math directly on a Python list?"
   ]
  },
  {
   "cell_type": "code",
   "execution_count": 15,
   "id": "eed2d254-857b-4772-9016-2deb535209ad",
   "metadata": {},
   "outputs": [
    {
     "name": "stdout",
     "output_type": "stream",
     "text": [
      "[1, 2, 3, 1, 2, 3]\n"
     ]
    }
   ],
   "source": [
    "lst = [1, 2, 3]\n",
    "print(lst * 2)        # [1, 2, 3, 1, 2, 3] – list repetition\n",
    "# print(lst + 1) "
   ]
  },
  {
   "cell_type": "markdown",
   "id": "215d5745-bdfc-4fbb-80f5-c87b88670c3e",
   "metadata": {},
   "source": [
    "#### What does np.array([1, '2', 3.0]).dtype return?"
   ]
  },
  {
   "cell_type": "code",
   "execution_count": 16,
   "id": "189fea03-a572-4f69-8e82-04aa5e247fc5",
   "metadata": {},
   "outputs": [
    {
     "name": "stdout",
     "output_type": "stream",
     "text": [
      "['1' '2' '3.0']\n",
      "<U32\n"
     ]
    }
   ],
   "source": [
    "arr = np.array([1, '2', 3.0])\n",
    "print(arr)\n",
    "print(arr.dtype)"
   ]
  },
  {
   "cell_type": "markdown",
   "id": "a6bf3a22-0660-4107-8f59-9a6727dc4b63",
   "metadata": {},
   "source": [
    "## Creating Arrays from Python Lists\n"
   ]
  },
  {
   "cell_type": "markdown",
   "id": "3125f06d-0d3a-4070-a9eb-f0ece065964b",
   "metadata": {},
   "source": [
    "### Basic Array Creation"
   ]
  },
  {
   "cell_type": "code",
   "execution_count": 17,
   "id": "0ec5d57f-7455-45ad-91c0-5f0789294219",
   "metadata": {},
   "outputs": [
    {
     "name": "stdout",
     "output_type": "stream",
     "text": [
      "Array: [1 2 3 4]\n",
      "Type: <class 'numpy.ndarray'>\n",
      "Data type: int64\n"
     ]
    }
   ],
   "source": [
    "import numpy as np\n",
    "\n",
    "lst = [1, 2, 3, 4]\n",
    "arr = np.array(lst)\n",
    "print(\"Array:\", arr)\n",
    "print(\"Type:\", type(arr))\n",
    "print(\"Data type:\", arr.dtype)\n"
   ]
  },
  {
   "cell_type": "markdown",
   "id": "1b4f4271-e839-4227-86e3-c9102a9d1191",
   "metadata": {},
   "source": [
    "### Nested Lists → Multidimensional Arrays"
   ]
  },
  {
   "cell_type": "code",
   "execution_count": 18,
   "id": "8603b52e-6566-4ef8-968c-fb47608bd3cc",
   "metadata": {},
   "outputs": [
    {
     "name": "stdout",
     "output_type": "stream",
     "text": [
      "2D Array:\n",
      " [[1 2]\n",
      " [3 4]]\n",
      "Shape: (2, 2)\n"
     ]
    }
   ],
   "source": [
    "nested = [[1, 2], [3, 4]]\n",
    "arr2d = np.array(nested)\n",
    "print(\"2D Array:\\n\", arr2d)\n",
    "print(\"Shape:\", arr2d.shape)\n"
   ]
  },
  {
   "cell_type": "markdown",
   "id": "b0980cd8-6e46-473c-a2dd-27a795d54921",
   "metadata": {},
   "source": [
    "### Explicit dtype Control"
   ]
  },
  {
   "cell_type": "code",
   "execution_count": 19,
   "id": "d78bfda7-233c-4c02-a74a-ed69087f3cd3",
   "metadata": {},
   "outputs": [
    {
     "name": "stdout",
     "output_type": "stream",
     "text": [
      "Float Array: [1. 2. 3.]\n",
      "Data type: float64\n"
     ]
    }
   ],
   "source": [
    "arr_float = np.array([1, 2, 3], dtype=float)\n",
    "print(\"Float Array:\", arr_float)\n",
    "print(\"Data type:\", arr_float.dtype)\n"
   ]
  },
  {
   "cell_type": "code",
   "execution_count": 21,
   "id": "6535d083-9e0b-4dc1-ba3b-8bb9608118ff",
   "metadata": {},
   "outputs": [
    {
     "data": {
      "text/plain": [
       "array([0, 0, 0, 0, 0, 0, 0, 0, 0, 0])"
      ]
     },
     "execution_count": 21,
     "metadata": {},
     "output_type": "execute_result"
    }
   ],
   "source": [
    "# Create a length-10 integer array filled with zeros\n",
    "np.zeros(10, dtype=int)\n"
   ]
  },
  {
   "cell_type": "code",
   "execution_count": 22,
   "id": "0a5401f9-e58e-4a9c-8d25-800f184a6bc5",
   "metadata": {},
   "outputs": [
    {
     "data": {
      "text/plain": [
       "array([[1., 1., 1., 1., 1.],\n",
       "       [1., 1., 1., 1., 1.],\n",
       "       [1., 1., 1., 1., 1.]])"
      ]
     },
     "execution_count": 22,
     "metadata": {},
     "output_type": "execute_result"
    }
   ],
   "source": [
    "# Create a 3x5 floating-point array filled with ones\n",
    "np.ones((3, 5), dtype=float)\n"
   ]
  },
  {
   "cell_type": "markdown",
   "id": "79ef75fa-0ac5-441d-9777-b8ad23ff66e5",
   "metadata": {},
   "source": [
    "## Creating array from Scratch\n"
   ]
  },
  {
   "cell_type": "code",
   "execution_count": 23,
   "id": "a8aa5f49-4432-477f-be58-a9ffe4dc4a17",
   "metadata": {},
   "outputs": [
    {
     "data": {
      "text/plain": [
       "array([[3.14, 3.14, 3.14, 3.14, 3.14],\n",
       "       [3.14, 3.14, 3.14, 3.14, 3.14],\n",
       "       [3.14, 3.14, 3.14, 3.14, 3.14]])"
      ]
     },
     "execution_count": 23,
     "metadata": {},
     "output_type": "execute_result"
    }
   ],
   "source": [
    "# Create a 3x5 array filled with 3.14\n",
    "np.full((3, 5), 3.14)\n"
   ]
  },
  {
   "cell_type": "code",
   "execution_count": 24,
   "id": "b04b2a65-7d6d-4b30-9b65-f13a39f48506",
   "metadata": {},
   "outputs": [
    {
     "data": {
      "text/plain": [
       "array([ 0,  2,  4,  6,  8, 10, 12, 14, 16, 18])"
      ]
     },
     "execution_count": 24,
     "metadata": {},
     "output_type": "execute_result"
    }
   ],
   "source": [
    "# Create an array filled with a linear sequence\n",
    "# Starting at 0, ending at 20, stepping by 2\n",
    "np.arange(0, 20, 2)\n"
   ]
  },
  {
   "cell_type": "code",
   "execution_count": 25,
   "id": "a445473d-45e3-498f-829d-d3d4547d46ad",
   "metadata": {},
   "outputs": [
    {
     "data": {
      "text/plain": [
       "array([0.  , 0.25, 0.5 , 0.75, 1.  ])"
      ]
     },
     "execution_count": 25,
     "metadata": {},
     "output_type": "execute_result"
    }
   ],
   "source": [
    "# Create an array of five values evenly spaced between 0 and 1\n",
    "np.linspace(0, 1, 5)\n"
   ]
  },
  {
   "cell_type": "code",
   "execution_count": 26,
   "id": "6b103940-db78-415f-92cd-da9d5da30534",
   "metadata": {},
   "outputs": [
    {
     "data": {
      "text/plain": [
       "array([[0.46810639, 0.32340685, 0.60374496],\n",
       "       [0.62658452, 0.61927572, 0.6139466 ],\n",
       "       [0.7222453 , 0.76053457, 0.66654941]])"
      ]
     },
     "execution_count": 26,
     "metadata": {},
     "output_type": "execute_result"
    }
   ],
   "source": [
    "# Create a 3x3 array of uniformly distributed random values between 0 and 1\n",
    "np.random.random((3, 3))\n"
   ]
  },
  {
   "cell_type": "code",
   "execution_count": 27,
   "id": "bfbca71b-441c-4c9e-b5c1-8980bd551743",
   "metadata": {},
   "outputs": [
    {
     "data": {
      "text/plain": [
       "array([[ 1.59265914, -0.8869041 , -0.27125059],\n",
       "       [-0.99635947,  1.10577389, -0.66799152],\n",
       "       [ 0.01933182,  1.9788186 , -1.25655071]])"
      ]
     },
     "execution_count": 27,
     "metadata": {},
     "output_type": "execute_result"
    }
   ],
   "source": [
    "# Create a 3x3 array of normally distributed random values\n",
    "# with mean 0 and standard deviation 1\n",
    "np.random.normal(0, 1, (3, 3))\n"
   ]
  },
  {
   "cell_type": "code",
   "execution_count": 28,
   "id": "b03e8164-7b2b-45ca-81e1-45db283e0ad7",
   "metadata": {},
   "outputs": [
    {
     "data": {
      "text/plain": [
       "array([[2, 9, 9],\n",
       "       [5, 9, 7],\n",
       "       [3, 7, 4]], dtype=int32)"
      ]
     },
     "execution_count": 28,
     "metadata": {},
     "output_type": "execute_result"
    }
   ],
   "source": [
    "# Create a 3x3 array of random integers in the interval [0, 10)\n",
    "np.random.randint(0, 10, (3, 3))\n"
   ]
  },
  {
   "cell_type": "code",
   "execution_count": 29,
   "id": "a49d8715-70bd-4523-b90e-b2cb26530b15",
   "metadata": {},
   "outputs": [
    {
     "data": {
      "text/plain": [
       "array([[1., 0., 0.],\n",
       "       [0., 1., 0.],\n",
       "       [0., 0., 1.]])"
      ]
     },
     "execution_count": 29,
     "metadata": {},
     "output_type": "execute_result"
    }
   ],
   "source": [
    "# Create a 3x3 identity matrix\n",
    "np.eye(3)\n"
   ]
  },
  {
   "cell_type": "code",
   "execution_count": 60,
   "id": "330fa6d8-375d-4c07-b25b-3c17fa01361c",
   "metadata": {},
   "outputs": [
    {
     "data": {
      "text/plain": [
       "array([1., 1., 1.])"
      ]
     },
     "execution_count": 60,
     "metadata": {},
     "output_type": "execute_result"
    }
   ],
   "source": [
    "# Create an uninitialized array of three integers\n",
    "np.empty(3)\n"
   ]
  },
  {
   "cell_type": "markdown",
   "id": "c22cce41-4843-4b59-8fd1-4e954104f820",
   "metadata": {},
   "source": [
    "## NumPy Standard Data Types"
   ]
  },
  {
   "cell_type": "code",
   "execution_count": 61,
   "id": "e777cb53-0440-4de1-bc65-0f642e49e6d7",
   "metadata": {},
   "outputs": [
    {
     "data": {
      "text/plain": [
       "array([0, 0, 0, 0, 0, 0, 0, 0, 0, 0], dtype=int16)"
      ]
     },
     "execution_count": 61,
     "metadata": {},
     "output_type": "execute_result"
    }
   ],
   "source": [
    "# Specifying dtype using string\n",
    "np.zeros(10, dtype='int16')\n",
    "\n",
    "# Specifying dtype using NumPy object\n",
    "np.zeros(10, dtype=np.int16)\n"
   ]
  },
  {
   "cell_type": "markdown",
   "id": "06ceb263-ef45-4879-8e96-df409908e050",
   "metadata": {},
   "source": [
    "### Common NumPy Data Types\n",
    "\n",
    "| Type      | Description                      | Example dtype     |\n",
    "|-----------|----------------------------------|-------------------|\n",
    "| `bool_`   | Boolean (True or False)          | `np.bool_`        |\n",
    "| `int_`    | Default integer (platform-based) | `np.int32`, `np.int64` |\n",
    "| `uint`    | Unsigned integer                 | `np.uint8`, `np.uint16` |\n",
    "| `float_`  | Floating point                   | `np.float32`, `np.float64` |\n",
    "| `complex_`| Complex numbers                  | `np.complex64`, `np.complex128` |\n",
    "| `str_`    | Fixed-length string              | `np.str_`         |\n",
    "| `object_` | Arbitrary Python objects         | `np.object_`      |\n",
    "\n",
    "Use smaller types (e.g., `int8`, `float32`) for memory efficiency.  \n",
    "Use larger types (e.g., `int64`, `float64`) for precision.\n",
    "\n"
   ]
  },
  {
   "cell_type": "markdown",
   "id": "ea38fa58-d2b0-47a6-90e9-53de62ce2365",
   "metadata": {},
   "source": [
    "### Type Casting\n",
    "Use `.astype()` to convert between types.  \n",
    "Note: Casting from float to int truncates decimals.\n"
   ]
  },
  {
   "cell_type": "code",
   "execution_count": 62,
   "id": "1978e6af-54c6-4136-85aa-985e2b8ea91b",
   "metadata": {},
   "outputs": [
    {
     "data": {
      "text/plain": [
       "array([1, 2, 3], dtype=int32)"
      ]
     },
     "execution_count": 62,
     "metadata": {},
     "output_type": "execute_result"
    }
   ],
   "source": [
    "# Cast float array to int\n",
    "arr = np.array([1.7, 2.3, 3.9], dtype=np.float32)\n",
    "arr.astype(np.int32)\n"
   ]
  },
  {
   "cell_type": "markdown",
   "id": "9602762d-2600-43e1-ac8e-ca4cadd96b04",
   "metadata": {},
   "source": [
    "## Numpy Attributes"
   ]
  },
  {
   "cell_type": "markdown",
   "id": "95acff1a-3a63-4584-b920-00c147885d23",
   "metadata": {},
   "source": [
    "### Creating Arrays of Different Dimensions\n",
    "We use `np.random.randint()` to generate random integers.  \n",
    "Seeding ensures reproducibility.  \n",
    "We'll explore attributes of 1D, 2D, and 3D arrays.\n"
   ]
  },
  {
   "cell_type": "code",
   "execution_count": 73,
   "id": "b840acde-87c4-4fc3-9323-91a657994ca3",
   "metadata": {},
   "outputs": [
    {
     "name": "stdout",
     "output_type": "stream",
     "text": [
      "x1 (1D array):\n",
      "[6 3 3 7 3 7]\n",
      "\n",
      "x2 (2D array):\n",
      "[[2 4 7 5]\n",
      " [2 4 3 7]\n",
      " [3 9 0 7]]\n",
      "\n",
      "x3 (3D array):\n",
      "[[[5 8 7 0 7]\n",
      "  [7 1 1 3 9]\n",
      "  [5 6 9 4 3]\n",
      "  [0 6 6 2 3]]\n",
      "\n",
      " [[4 6 8 6 5]\n",
      "  [5 1 2 3 1]\n",
      "  [6 2 4 1 2]\n",
      "  [0 1 2 3 5]]\n",
      "\n",
      " [[3 1 7 4 7]\n",
      "  [5 3 1 8 7]\n",
      "  [0 9 2 4 6]\n",
      "  [8 2 1 9 5]]]\n"
     ]
    }
   ],
   "source": [
    "import numpy as np\n",
    "\n",
    "x1 = np.random.randint(10, size=6)         # 1D array\n",
    "x2 = np.random.randint(10, size=(3, 4))    # 2D array\n",
    "x3 = np.random.randint(10, size=(3, 4, 5)) # 3D array\n",
    "\n",
    "print(\"x1 (1D array):\")\n",
    "print(x1)\n",
    "\n",
    "print(\"\\nx2 (2D array):\")\n",
    "print(x2)\n",
    "\n",
    "print(\"\\nx3 (3D array):\")\n",
    "print(x3)\n"
   ]
  },
  {
   "cell_type": "markdown",
   "id": "ea6518cf-f884-4d1a-aee4-fb6079120d1c",
   "metadata": {},
   "source": [
    "### Array Dimensionality, Shape, and Size\n",
    "\n",
    "- `ndim`: Number of dimensions  \n",
    "- `shape`: Size of each dimension  \n",
    "- `size`: Total number of elements\n",
    "\n",
    "These attributes help you understand the structure of your data.\n"
   ]
  },
  {
   "cell_type": "code",
   "execution_count": 64,
   "id": "99ba7a12-6808-4e90-ab17-12d76859388f",
   "metadata": {},
   "outputs": [
    {
     "name": "stdout",
     "output_type": "stream",
     "text": [
      "x1 ndim: 1\n",
      "x1 shape: (6,)\n",
      "x1 size: 6\n",
      "x2 ndim: 2\n",
      "x2 shape: (3, 4)\n",
      "x2 size: 12\n",
      "x3 ndim: 3\n",
      "x3 shape: (3, 4, 5)\n",
      "x3 size: 60\n"
     ]
    }
   ],
   "source": [
    "print(\"x1 ndim:\", x1.ndim)\n",
    "print(\"x1 shape:\", x1.shape)\n",
    "print(\"x1 size:\", x1.size)\n",
    "\n",
    "print(\"x2 ndim:\", x2.ndim)\n",
    "print(\"x2 shape:\", x2.shape)\n",
    "print(\"x2 size:\", x2.size)\n",
    "\n",
    "print(\"x3 ndim:\", x3.ndim)\n",
    "print(\"x3 shape:\", x3.shape)\n",
    "print(\"x3 size:\", x3.size)\n"
   ]
  },
  {
   "cell_type": "markdown",
   "id": "b693dc60-1c43-4cff-853d-d30d5fb42545",
   "metadata": {},
   "source": [
    "### Data Type (`dtype`)\n",
    "Shows the type of elements stored in the array.  \n",
    "In this case, it's `int64` — 64-bit integers.\n"
   ]
  },
  {
   "cell_type": "code",
   "execution_count": 65,
   "id": "ab3de96f-ac54-4c29-ac6c-97191dc6f28c",
   "metadata": {},
   "outputs": [
    {
     "name": "stdout",
     "output_type": "stream",
     "text": [
      "x3 dtype: int32\n"
     ]
    }
   ],
   "source": [
    "print(\"x3 dtype:\", x3.dtype)\n"
   ]
  },
  {
   "cell_type": "markdown",
   "id": "3251f04c-7f83-45d9-b17e-6b97ff47f102",
   "metadata": {},
   "source": [
    "### Memory Attributes\n",
    "\n",
    "- `itemsize`: Size of one element in bytes  \n",
    "- `nbytes`: Total memory used by the array\n",
    "\n",
    "✅ `nbytes = itemsize × size` — useful for memory profiling.\n"
   ]
  },
  {
   "cell_type": "code",
   "execution_count": 66,
   "id": "4ec47d49-303c-439b-9f4d-46b2c2dce654",
   "metadata": {},
   "outputs": [
    {
     "name": "stdout",
     "output_type": "stream",
     "text": [
      "x3 itemsize: 4 bytes\n",
      "x3 nbytes: 240 bytes\n",
      "Expected nbytes: 240\n"
     ]
    }
   ],
   "source": [
    "print(\"x3 itemsize:\", x3.itemsize, \"bytes\")\n",
    "print(\"x3 nbytes:\", x3.nbytes, \"bytes\")\n",
    "print(\"Expected nbytes:\", x3.itemsize * x3.size)\n"
   ]
  },
  {
   "cell_type": "markdown",
   "id": "b319c9d4-fe3b-4a1b-a54c-c6b1e4e66b07",
   "metadata": {},
   "source": [
    "### Why These Attributes Matter\n",
    "\n",
    "- `shape` and `ndim` are essential for reshaping and broadcasting.\n",
    "- `dtype` affects precision and compatibility.\n",
    "- `nbytes` helps optimize memory usage in large datasets.\n",
    "\n",
    "These attributes are foundational for efficient NumPy workflows.\n"
   ]
  },
  {
   "cell_type": "markdown",
   "id": "e763cf26-3b69-4c6f-a1ff-1542d0df5b82",
   "metadata": {},
   "source": [
    "## Array Indexing and Slicing in NumPy"
   ]
  },
  {
   "cell_type": "markdown",
   "id": "c548e651-8ad5-41bd-bb6c-8eedbd7b29f8",
   "metadata": {},
   "source": [
    "### Array Creation & Basic Indexing\n",
    "\n",
    "- **1D indexing**: use a single integer to pick an element.\n",
    "- **2D indexing**: use `[row, col]` to pick one element;  \n",
    "  a single index on a 2D array returns a full row;  \n",
    "  `:` selects all elements along that axis.\n",
    "\n",
    "Before slicing subarrays, it’s crucial to be comfortable with this basic element access.\n"
   ]
  },
  {
   "cell_type": "code",
   "execution_count": 91,
   "id": "b98d60f8-52d5-4976-9758-8aec1f66038c",
   "metadata": {},
   "outputs": [
    {
     "name": "stdout",
     "output_type": "stream",
     "text": [
      "x  = [0 1 2 3 4 5 6 7 8 9]\n",
      "x2 =\n",
      " [[5 0 3 3]\n",
      " [7 9 3 5]\n",
      " [2 4 7 6]]\n",
      "\n",
      "— 1D Indexing —\n",
      "x[0]   → 0\n",
      "x[5]   → 5\n",
      "x[-1]  → 9\n",
      "\n",
      "— 2D Indexing —\n",
      "x2[0, 0] → 5\n",
      "x2[1, 2] → 3\n",
      "x2[2]    → [2 4 7 6]\n",
      "x2[:, 3] → [3 5 6]\n"
     ]
    }
   ],
   "source": [
    "import numpy as np\n",
    "np.random.seed(0)\n",
    "\n",
    "# Create sample arrays\n",
    "x  = np.arange(10)                      # 1D array: [0,1,…,9]\n",
    "x2 = np.random.randint(0, 10, size=(3, 4))  # 2D array: shape (3,4)\n",
    "\n",
    "# Display arrays\n",
    "print(\"x  =\", x)\n",
    "print(\"x2 =\\n\", x2)\n",
    "\n",
    "# 1D indexing\n",
    "print(\"\\n— 1D Indexing —\")\n",
    "print(\"x[0]   →\", x[0])    # first element\n",
    "print(\"x[5]   →\", x[5])    # sixth element\n",
    "print(\"x[-1]  →\", x[-1])   # last element\n",
    "\n",
    "# 2D indexing\n",
    "print(\"\\n— 2D Indexing —\")\n",
    "print(\"x2[0, 0] →\", x2[0, 0])  # element at row 0, col 0\n",
    "print(\"x2[1, 2] →\", x2[1, 2])  # element at row 1, col 2\n",
    "print(\"x2[2]    →\", x2[2])     # entire third row\n",
    "print(\"x2[:, 3] →\", x2[:, 3])  # entire fourth column\n"
   ]
  },
  {
   "cell_type": "markdown",
   "id": "5bb4dd9b-dac5-4972-a308-5621fa70214e",
   "metadata": {},
   "source": [
    "### 1D Slicing\n",
    "\n",
    "- `x[:5]` takes elements `0–4`  \n",
    "- `x[5:]` takes elements `5–9`  \n",
    "- `x[4:7]` takes elements `4,5,6`  \n",
    "- Negative and step slicing lets us skip or reverse elements  \n",
    "- **Interactive:** What does `x[3:9:2]` return? Try it before moving on.\n"
   ]
  },
  {
   "cell_type": "code",
   "execution_count": 81,
   "id": "1b6987d3-4268-4501-8b19-f5559056944b",
   "metadata": {},
   "outputs": [
    {
     "name": "stdout",
     "output_type": "stream",
     "text": [
      "x[:5]   → [0 1 2 3 4]\n",
      "x[5:]   → [5 6 7 8 9]\n",
      "x[4:7]  → [4 5 6]\n",
      "x[::2]  → [0 2 4 6 8]\n",
      "x[1::2] → [1 3 5 7 9]\n"
     ]
    }
   ],
   "source": [
    "print(\"x[:5]   →\", x[:5])    # first five elements\n",
    "print(\"x[5:]   →\", x[5:])    # elements from index 5 onward\n",
    "print(\"x[4:7]  →\", x[4:7])   # indices 4,5,6\n",
    "print(\"x[::2]  →\", x[::2])   # every other element\n",
    "print(\"x[1::2] →\", x[1::2])  # every other, starting at 1\n"
   ]
  },
  {
   "cell_type": "markdown",
   "id": "b3484d14-ecb7-426c-a9dd-59353c05f434",
   "metadata": {},
   "source": [
    "### Reversing with Negative Step\n",
    "\n",
    "- `x[::-1]` reverses the array  \n",
    "- `x[start::-step]` walks backwards from `start`  \n",
    "- **Tricky:** What happens if you omit `start` in `x[::-2]`? (It starts from end, stepping by -2.)\n"
   ]
  },
  {
   "cell_type": "code",
   "execution_count": 82,
   "id": "a05852dc-31b5-4200-a9af-54fa334766ac",
   "metadata": {},
   "outputs": [
    {
     "name": "stdout",
     "output_type": "stream",
     "text": [
      "x[::-1]   → [9 8 7 6 5 4 3 2 1 0]\n",
      "x[5::-2] → [5 3 1]\n"
     ]
    }
   ],
   "source": [
    "print(\"x[::-1]   →\", x[::-1])     # reverse entire array\n",
    "print(\"x[5::-2] →\", x[5::-2])    # from index 5 down to 0, every other\n"
   ]
  },
  {
   "cell_type": "markdown",
   "id": "e48224e5-0df0-422b-99d5-c07de33f3a62",
   "metadata": {},
   "source": [
    "### 2D Slicing\n",
    "\n",
    "- Comma-separated slices: `x2[row_slice, col_slice]`  \n",
    "- `x2[:2, :3]` extracts a 2×3 block  \n",
    "- `x2[:3, ::2]` takes all rows, columns 0,2,…  \n",
    "- **Interactive:** Predict `x2[1:3, 1:4:2]` before running it.\n"
   ]
  },
  {
   "cell_type": "code",
   "execution_count": 85,
   "id": "cd72fe6b-e52e-45ed-aaa5-2a395a09723d",
   "metadata": {},
   "outputs": [
    {
     "name": "stdout",
     "output_type": "stream",
     "text": [
      "x2[:2, :3]  →\n",
      " [[5 0 3]\n",
      " [7 9 3]]\n",
      "x2[:3, ::2] →\n",
      " [[5 3]\n",
      " [7 3]\n",
      " [2 7]]\n"
     ]
    }
   ],
   "source": [
    "print(\"x2[:2, :3]  →\\n\", x2[:2, :3])   # first two rows, first three columns\n",
    "print(\"x2[:3, ::2] →\\n\", x2[:3, ::2])  # all rows, every other column\n"
   ]
  },
  {
   "cell_type": "markdown",
   "id": "531e9b14-f58d-41e7-a431-e6efaa44aa0e",
   "metadata": {},
   "source": [
    "### Reversing Rows and Columns\n",
    "\n",
    "- `[::-1, ::-1]` flips both dimensions  \n",
    "- Handy for rotating images or matrices by 180°  \n",
    "- **Tip:** Combine with other slices to extract mirrored subarrays.\n"
   ]
  },
  {
   "cell_type": "code",
   "execution_count": 86,
   "id": "c4ee36df-4b45-4bf8-a01c-60769b4cb8a5",
   "metadata": {},
   "outputs": [
    {
     "name": "stdout",
     "output_type": "stream",
     "text": [
      "x2[::-1, ::-1] →\n",
      " [[6 7 4 2]\n",
      " [5 3 9 7]\n",
      " [3 3 0 5]]\n"
     ]
    }
   ],
   "source": [
    "print(\"x2[::-1, ::-1] →\\n\", x2[::-1, ::-1])\n"
   ]
  },
  {
   "cell_type": "markdown",
   "id": "bf7326c7-5bdc-4d37-b8df-3fd83757ef4c",
   "metadata": {},
   "source": [
    "### Accessing Rows and Columns\n",
    "\n",
    "- `x2[:, 0]` is a 1D view of column 0  \n",
    "- `x2[1, :]` or `x2[1]` is row 1  \n",
    "- Omitting the second index defaults to `:`  \n",
    "- **Tricky:** What is the shape of `x2[:, 0]` vs `x2[0, :]`?\n"
   ]
  },
  {
   "cell_type": "code",
   "execution_count": 87,
   "id": "c1f8365d-3305-4de4-a213-d5cbb6276ede",
   "metadata": {},
   "outputs": [
    {
     "name": "stdout",
     "output_type": "stream",
     "text": [
      "First column: [5 7 2]\n",
      "Second row:   [7 9 3 5]\n",
      "Row vs slice: [2 4 7 6] [2 4 7 6]\n"
     ]
    }
   ],
   "source": [
    "print(\"First column:\", x2[:, 0])\n",
    "print(\"Second row:  \", x2[1, :])\n",
    "print(\"Row vs slice:\", x2[2], x2[2, :])\n"
   ]
  },
  {
   "cell_type": "markdown",
   "id": "7f74c16a-cdc4-4e49-a644-99e5482111fe",
   "metadata": {},
   "source": [
    "### Views vs. Copies\n",
    "\n",
    "- Slicing returns a **view** — it shares memory with the original  \n",
    "- Modifying `x2_sub` also changes `x2`  \n",
    "- Efficient for large data, but be cautious when mutating views.\n"
   ]
  },
  {
   "cell_type": "code",
   "execution_count": 88,
   "id": "ac11d96e-0494-4dc7-a0f1-7d831b9cd3aa",
   "metadata": {},
   "outputs": [
    {
     "name": "stdout",
     "output_type": "stream",
     "text": [
      "Subarray before:\n",
      " [[5 0]\n",
      " [7 9]]\n",
      "Subarray after:\n",
      " [[99  0]\n",
      " [ 7  9]]\n",
      "Original x2 changed:\n",
      " [[99  0  3  3]\n",
      " [ 7  9  3  5]\n",
      " [ 2  4  7  6]]\n"
     ]
    }
   ],
   "source": [
    "x2_sub = x2[:2, :2]\n",
    "print(\"Subarray before:\\n\", x2_sub)\n",
    "x2_sub[0, 0] = 99\n",
    "print(\"Subarray after:\\n\", x2_sub)\n",
    "print(\"Original x2 changed:\\n\", x2)\n"
   ]
  },
  {
   "cell_type": "markdown",
   "id": "98577374-4779-40cd-a88d-05f8072c4338",
   "metadata": {},
   "source": [
    "### Copying Data\n",
    "\n",
    "- Use `.copy()` to get an independent array  \n",
    "- Changes to the copy do **not** affect the original  \n",
    "- Useful when you need to preserve the source data unmodified.\n"
   ]
  },
  {
   "cell_type": "code",
   "execution_count": 90,
   "id": "c742f1d9-ef12-46ea-bd5b-51ab39a5f17f",
   "metadata": {},
   "outputs": [
    {
     "name": "stdout",
     "output_type": "stream",
     "text": [
      "Copy after change:\n",
      " [[42  0]\n",
      " [ 7  9]]\n",
      "Original x2 remains:\n",
      " [[99  0  3  3]\n",
      " [ 7  9  3  5]\n",
      " [ 2  4  7  6]]\n"
     ]
    }
   ],
   "source": [
    "x2_sub_copy = x2[:2, :2].copy()\n",
    "x2_sub_copy[0, 0] = 42\n",
    "\n",
    "print(\"Copy after change:\\n\", x2_sub_copy)\n",
    "print(\"Original x2 remains:\\n\", x2)\n"
   ]
  },
  {
   "cell_type": "markdown",
   "id": "116765f1-95c3-490c-9b40-1ba085a55fb6",
   "metadata": {},
   "source": [
    "## Reshaping of Arrays"
   ]
  },
  {
   "cell_type": "markdown",
   "id": "d60b9672-69c0-40a4-b808-d00ac8a69fb0",
   "metadata": {},
   "source": [
    "Reshapes a flat array of numbers 1–9 into a 3×3 grid.\n",
    "Useful for creating matrix-like structures from linear data.\n"
   ]
  },
  {
   "cell_type": "code",
   "execution_count": 92,
   "id": "21bf6ead-3d6f-47af-92b1-d9593212cb67",
   "metadata": {},
   "outputs": [
    {
     "name": "stdout",
     "output_type": "stream",
     "text": [
      "[[1 2 3]\n",
      " [4 5 6]\n",
      " [7 8 9]]\n"
     ]
    }
   ],
   "source": [
    "grid = np.arange(1, 10).reshape((3, 3))\n",
    "print(grid)\n"
   ]
  },
  {
   "cell_type": "markdown",
   "id": "fc1a979b-6f14-4246-b393-2b3c79cda771",
   "metadata": {},
   "source": [
    "Reshape only works when the number of elements matches the target shape.\n",
    "Mismatch triggers an error — 8 items can’t reshape to shape (3, 3).\n"
   ]
  },
  {
   "cell_type": "code",
   "execution_count": 102,
   "id": "23780e68-9346-4093-a952-9cc35d5c6f99",
   "metadata": {},
   "outputs": [
    {
     "data": {
      "text/plain": [
       "array([[0, 1, 2, 3],\n",
       "       [4, 5, 6, 7]])"
      ]
     },
     "execution_count": 102,
     "metadata": {},
     "output_type": "execute_result"
    }
   ],
   "source": [
    "x = np.arange(8)\n",
    "x.reshape((2, 4))   #  valid\n",
    "# x.reshape((3, 3)) #  ValueError: total size mismatch\n"
   ]
  },
  {
   "cell_type": "markdown",
   "id": "85cb8cac-bba0-4a7c-8515-468be454db90",
   "metadata": {},
   "source": [
    "Creates a 1×3 row vector using two equivalent methods.\n",
    "Both add a new axis to turn the 1D array into a 2D row.\n"
   ]
  },
  {
   "cell_type": "code",
   "execution_count": 99,
   "id": "9a48cd9c-35ce-4f02-a868-dd23fdff7d81",
   "metadata": {},
   "outputs": [
    {
     "data": {
      "text/plain": [
       "array([[1, 2, 3]])"
      ]
     },
     "execution_count": 99,
     "metadata": {},
     "output_type": "execute_result"
    }
   ],
   "source": [
    "x = np.array([1, 2, 3])\n",
    "row1 = x.reshape((1, 3))\n",
    "row2 = x[np.newaxis, :]\n",
    "\n",
    "row2\n"
   ]
  },
  {
   "cell_type": "markdown",
   "id": "cc01368d-0684-4104-9d91-c8662e81f746",
   "metadata": {},
   "source": [
    "Transforms the same array into a 3×1 column vector.\n",
    "`np.newaxis` is syntactic sugar for adding dimensions.\n"
   ]
  },
  {
   "cell_type": "code",
   "execution_count": 101,
   "id": "bb6ecd2b-e991-4c37-a65d-fadc3af45c17",
   "metadata": {},
   "outputs": [
    {
     "data": {
      "text/plain": [
       "array([[1],\n",
       "       [2],\n",
       "       [3]])"
      ]
     },
     "execution_count": 101,
     "metadata": {},
     "output_type": "execute_result"
    }
   ],
   "source": [
    "col1 = x.reshape((3, 1))\n",
    "col2 = x[:, np.newaxis]\n",
    "\n",
    "col2\n"
   ]
  },
  {
   "cell_type": "markdown",
   "id": "f232391a-f786-4efe-a369-98d609210c6d",
   "metadata": {},
   "source": [
    "## Array Concatenation and Splitting"
   ]
  },
  {
   "cell_type": "markdown",
   "id": "9cff6d8e-8042-450c-87ae-dae621a1b9f2",
   "metadata": {},
   "source": [
    "Joins multiple 1D arrays into one. Works with any number of arrays as long as shapes align.\n"
   ]
  },
  {
   "cell_type": "code",
   "execution_count": 103,
   "id": "5ada99d6-8a0c-4ab0-a948-8434d764e194",
   "metadata": {},
   "outputs": [
    {
     "data": {
      "text/plain": [
       "array([ 1,  2,  3,  3,  2,  1, 99, 99, 99])"
      ]
     },
     "execution_count": 103,
     "metadata": {},
     "output_type": "execute_result"
    }
   ],
   "source": [
    "x = np.array([1, 2, 3])\n",
    "y = np.array([3, 2, 1])\n",
    "z = np.array([99, 99, 99])\n",
    "np.concatenate([x, y, z])\n"
   ]
  },
  {
   "cell_type": "markdown",
   "id": "fe484523-e993-49a3-9075-e3c196716214",
   "metadata": {},
   "source": [
    "Concatenates 2D arrays:\n",
    "- `axis=0` stacks rows (adds vertical slices).\n",
    "- `axis=1` stacks columns (adds horizontal slices).\n"
   ]
  },
  {
   "cell_type": "code",
   "execution_count": 112,
   "id": "9a7f5973-45ba-4053-8da2-71b39aaf5b4b",
   "metadata": {},
   "outputs": [
    {
     "data": {
      "text/plain": [
       "array([[1, 2, 3, 1, 2, 3],\n",
       "       [4, 5, 6, 4, 5, 6]])"
      ]
     },
     "execution_count": 112,
     "metadata": {},
     "output_type": "execute_result"
    }
   ],
   "source": [
    "grid = np.array([[1, 2, 3],\n",
    "                 [4, 5, 6]])\n",
    "\n",
    "x1 = np.concatenate([grid, grid])          # axis=0\n",
    "x2 = np.concatenate([grid, grid], axis=1)  # axis=1\n",
    "\n",
    "x2\n"
   ]
  },
  {
   "cell_type": "markdown",
   "id": "ae244f00-c6de-4703-8f13-2a8cc6be9b8c",
   "metadata": {},
   "source": [
    "Use `vstack` for vertical stacking (adds rows),\n",
    "and `hstack` for horizontal stacking (adds columns).\n",
    "Handles shape mismatches more cleanly than `concatenate`.\n"
   ]
  },
  {
   "cell_type": "code",
   "execution_count": 113,
   "id": "ec468505-4118-4433-a2e5-b02b51dbb891",
   "metadata": {
    "scrolled": true
   },
   "outputs": [
    {
     "data": {
      "text/plain": [
       "array([[1, 2, 3],\n",
       "       [9, 8, 7],\n",
       "       [6, 5, 4]])"
      ]
     },
     "execution_count": 113,
     "metadata": {},
     "output_type": "execute_result"
    }
   ],
   "source": [
    "x = np.array([1, 2, 3])\n",
    "grid = np.array([[9, 8, 7],\n",
    "                 [6, 5, 4]])\n",
    "y = np.array([[99],\n",
    "              [99]])\n",
    "\n",
    "x1 = np.vstack([x, grid])\n",
    "np.hstack([grid, y])\n",
    "x1"
   ]
  },
  {
   "cell_type": "markdown",
   "id": "d5997bf4-5cc8-4102-b7c9-a73777973264",
   "metadata": {},
   "source": [
    "Splits 1D array at given indices.\n",
    "- With N split points, produces N+1 subarrays.\n"
   ]
  },
  {
   "cell_type": "code",
   "execution_count": 110,
   "id": "177e0895-f2b8-47f2-9dc9-6ed3a723c435",
   "metadata": {},
   "outputs": [
    {
     "data": {
      "text/plain": [
       "(array([1, 2, 3]), array([99, 99]), array([3, 2, 1]))"
      ]
     },
     "execution_count": 110,
     "metadata": {},
     "output_type": "execute_result"
    }
   ],
   "source": [
    "x = np.array([1, 2, 3, 99, 99, 3, 2, 1])\n",
    "x1, x2, x3 = np.split(x, [3, 5])\n",
    "\n",
    "x1,x2,x3"
   ]
  },
  {
   "cell_type": "markdown",
   "id": "3de6831f-076f-414c-a76d-d7091e800ba6",
   "metadata": {},
   "source": [
    "- `vsplit` splits vertically (along rows).\n",
    "- `hsplit` splits horizontally (along columns).\n",
    "Each takes split indices for precise slicing.\n"
   ]
  },
  {
   "cell_type": "code",
   "execution_count": 111,
   "id": "4477bc54-7aaa-4d83-b40d-c5a85ea35ce6",
   "metadata": {},
   "outputs": [
    {
     "data": {
      "text/plain": [
       "(array([[0, 1, 2, 3],\n",
       "        [4, 5, 6, 7]]),\n",
       " array([[ 8,  9, 10, 11],\n",
       "        [12, 13, 14, 15]]),\n",
       " array([[ 0,  1],\n",
       "        [ 4,  5],\n",
       "        [ 8,  9],\n",
       "        [12, 13]]),\n",
       " array([[ 2,  3],\n",
       "        [ 6,  7],\n",
       "        [10, 11],\n",
       "        [14, 15]]))"
      ]
     },
     "execution_count": 111,
     "metadata": {},
     "output_type": "execute_result"
    }
   ],
   "source": [
    "grid = np.arange(16).reshape((4, 4))\n",
    "\n",
    "upper, lower = np.vsplit(grid, [2])\n",
    "left, right = np.hsplit(grid, [2])\n",
    "\n",
    "upper,lower,left,right"
   ]
  },
  {
   "cell_type": "markdown",
   "id": "e1ffadb4-2a6f-406e-a6ed-a3d24acb65ea",
   "metadata": {},
   "source": [
    "## NumPy's UFuncs"
   ]
  },
  {
   "cell_type": "markdown",
   "id": "09306c44-fd27-4b1b-9550-6bb158eb027e",
   "metadata": {},
   "source": [
    "### Arithmetic Operators\n",
    "Applies element-wise math with scalars:\n",
    "- `+`, `-`, `*`, `/`, `//` use NumPy's fast vectorized operations.\n",
    "- Internally mapped to `np.add`, `np.subtract`, `np.multiply`, etc.\n"
   ]
  },
  {
   "cell_type": "code",
   "execution_count": 117,
   "id": "2b7b0c49-5058-4408-9610-f9b0b6e85bb1",
   "metadata": {},
   "outputs": [
    {
     "name": "stdout",
     "output_type": "stream",
     "text": [
      "x     = [0 1 2 3]\n",
      "x + 5 = [5 6 7 8]\n",
      "x - 5 = [-5 -4 -3 -2]\n",
      "x * 2 = [0 2 4 6]\n",
      "x / 2 = [0.  0.5 1.  1.5]\n",
      "x // 2 = [0 0 1 1]\n",
      "np.add(x, 2): [2 3 4 5]\n"
     ]
    }
   ],
   "source": [
    "import numpy as np\n",
    "\n",
    "x = np.arange(4)\n",
    "print(\"x     =\", x)\n",
    "print(\"x + 5 =\", x + 5)\n",
    "print(\"x - 5 =\", x - 5)\n",
    "print(\"x * 2 =\", x * 2)\n",
    "print(\"x / 2 =\", x / 2)\n",
    "print(\"x // 2 =\", x // 2)\n",
    "# Explicit ufunc version\n",
    "print(\"np.add(x, 2):\", np.add(x, 2))"
   ]
  },
  {
   "cell_type": "markdown",
   "id": "a63dac9e-8807-4b9f-95e4-6405004b7edf",
   "metadata": {},
   "source": [
    "### Unary Operations\n",
    "- `-x`: negation → `np.negative`\n",
    "- `**`: power → `np.power`\n",
    "- `%`: modulus → `np.mod`\n",
    "All respect Python’s operator precedence.\n"
   ]
  },
  {
   "cell_type": "code",
   "execution_count": 118,
   "id": "a20ab10d-6efe-45ae-aa1e-6aa5388eabb5",
   "metadata": {},
   "outputs": [
    {
     "name": "stdout",
     "output_type": "stream",
     "text": [
      "-x     = [ 0 -1 -2 -3]\n",
      "x ** 2 = [0 1 4 9]\n",
      "x % 2  = [0 1 0 1]\n"
     ]
    }
   ],
   "source": [
    "print(\"-x     =\", -x)\n",
    "print(\"x ** 2 =\", x ** 2)\n",
    "print(\"x % 2  =\", x % 2)\n"
   ]
  },
  {
   "cell_type": "markdown",
   "id": "78a1e2b7-90e0-4b51-a80b-8e09a244476b",
   "metadata": {},
   "source": [
    "### Absolute Value\n",
    "- `np.abs` or `np.absolute` handles real or complex numbers.\n",
    "- Returns magnitude for complex inputs.\n"
   ]
  },
  {
   "cell_type": "code",
   "execution_count": 119,
   "id": "6cbdc2b7-64cb-4732-9622-ccfbb4554df9",
   "metadata": {},
   "outputs": [
    {
     "name": "stdout",
     "output_type": "stream",
     "text": [
      "np.abs(real): [2 1 0 1 2]\n",
      "np.abs(complex): [5. 5. 2. 1.]\n"
     ]
    }
   ],
   "source": [
    "x_real = np.array([-2, -1, 0, 1, 2])\n",
    "print(\"np.abs(real):\", np.abs(x_real))\n",
    "\n",
    "x_cmplx = np.array([3 - 4j, 4 - 3j, 2 + 0j, 0 + 1j])\n",
    "print(\"np.abs(complex):\", np.abs(x_cmplx))\n"
   ]
  },
  {
   "cell_type": "markdown",
   "id": "da181e60-6398-4b12-adb5-3b8bdc34de14",
   "metadata": {},
   "source": [
    "### Trigonometry\n",
    "- Element-wise sin, cos, tan of angles in radians.\n",
    "- Values respect machine precision.\n"
   ]
  },
  {
   "cell_type": "code",
   "execution_count": 121,
   "id": "4b3e1c2c-7cba-45c9-ab45-b41381c869c4",
   "metadata": {},
   "outputs": [
    {
     "name": "stdout",
     "output_type": "stream",
     "text": [
      "sin: [0.0000000e+00 1.0000000e+00 1.2246468e-16]\n",
      "cos: [ 1.000000e+00  6.123234e-17 -1.000000e+00]\n",
      "tan: [ 0.00000000e+00  1.63312394e+16 -1.22464680e-16]\n"
     ]
    }
   ],
   "source": [
    "theta = np.linspace(0, np.pi, 3)\n",
    "print(\"sin:\", np.sin(theta))\n",
    "print(\"cos:\", np.cos(theta))\n",
    "print(\"tan:\", np.tan(theta))\n"
   ]
  },
  {
   "cell_type": "markdown",
   "id": "f5d3a81e-2c60-4fd1-a551-ad629f2bccf3",
   "metadata": {},
   "source": [
    "### Exponentials\n",
    "- `np.exp`: e raised to x\n",
    "- `np.exp2`: 2 raised to x\n",
    "- `np.power(base, x)`: any base to power x\n"
   ]
  },
  {
   "cell_type": "code",
   "execution_count": 122,
   "id": "f0cf6dca-e23d-4be1-9c18-3b4e61ea8ea5",
   "metadata": {},
   "outputs": [
    {
     "name": "stdout",
     "output_type": "stream",
     "text": [
      "e^x   = [ 2.71828183  7.3890561  20.08553692]\n",
      "2^x   = [2. 4. 8.]\n",
      "3^x   = [ 3  9 27]\n"
     ]
    }
   ],
   "source": [
    "x = np.array([1, 2, 3])\n",
    "print(\"e^x   =\", np.exp(x))\n",
    "print(\"2^x   =\", np.exp2(x))\n",
    "print(\"3^x   =\", np.power(3, x))\n"
   ]
  },
  {
   "cell_type": "markdown",
   "id": "77b5ad9e-7749-4aa5-87c6-6f090f73118a",
   "metadata": {},
   "source": [
    "### Specifying Output\n",
    "Use the `out=` parameter to write results directly to an existing array.\n",
    "Saves memory by avoiding temporary arrays—especially valuable for large data.\n"
   ]
  },
  {
   "cell_type": "code",
   "execution_count": 123,
   "id": "5074f08f-02d3-4f9a-ab26-071e389b68e8",
   "metadata": {},
   "outputs": [
    {
     "name": "stdout",
     "output_type": "stream",
     "text": [
      "y after multiply: [ 0. 10. 20. 30. 40.]\n"
     ]
    }
   ],
   "source": [
    "import numpy as np\n",
    "\n",
    "x = np.arange(5)\n",
    "y = np.empty(5)\n",
    "np.multiply(x, 10, out=y)\n",
    "print(\"y after multiply:\", y)\n"
   ]
  },
  {
   "cell_type": "markdown",
   "id": "15f4bb27-52a4-431a-8707-bbab42261c2e",
   "metadata": {},
   "source": [
    "### Array Views as Output Targets\n",
    "You can target array slices or views with `out=` to update selective elements.\n",
    "Efficient for custom memory layouts or sparse updates.\n"
   ]
  },
  {
   "cell_type": "code",
   "execution_count": 124,
   "id": "dc2abf89-1b18-49e2-be53-43eacb21cf6f",
   "metadata": {},
   "outputs": [
    {
     "name": "stdout",
     "output_type": "stream",
     "text": [
      "y after power with view: [ 1.  0.  2.  0.  4.  0.  8.  0. 16.  0.]\n"
     ]
    }
   ],
   "source": [
    "y = np.zeros(10)\n",
    "np.power(2, x, out=y[::2])\n",
    "print(\"y after power with view:\", y)\n"
   ]
  },
  {
   "cell_type": "markdown",
   "id": "f02ef0c4-e07e-436a-a0a1-a494b80446a8",
   "metadata": {},
   "source": [
    "### Aggregates with `.reduce()`\n",
    "- Applies operation across array to return a single value.\n",
    "- Examples: sum → `np.add.reduce`; product → `np.multiply.reduce`\n"
   ]
  },
  {
   "cell_type": "code",
   "execution_count": 125,
   "id": "b7c15c9d-ea3c-44ba-8e1d-bbbee286598e",
   "metadata": {},
   "outputs": [
    {
     "name": "stdout",
     "output_type": "stream",
     "text": [
      "np.add.reduce: 15\n",
      "np.multiply.reduce: 120\n"
     ]
    }
   ],
   "source": [
    "x = np.arange(1, 6)\n",
    "print(\"np.add.reduce:\", np.add.reduce(x))\n",
    "print(\"np.multiply.reduce:\", np.multiply.reduce(x))\n"
   ]
  },
  {
   "cell_type": "markdown",
   "id": "adc1615c-64c3-4469-99d9-801a094a2c1b",
   "metadata": {},
   "source": [
    "### Aggregates with `.accumulate()`\n",
    "Returns intermediate results:\n",
    "- Cumulative sum → `np.add.accumulate`\n",
    "- Cumulative product → `np.multiply.accumulate`\n",
    "Identical to: `np.cumsum`, `np.cumprod`\n"
   ]
  },
  {
   "cell_type": "code",
   "execution_count": 126,
   "id": "a765acc8-a0a2-4bfc-a6a8-8faf724a756f",
   "metadata": {},
   "outputs": [
    {
     "name": "stdout",
     "output_type": "stream",
     "text": [
      "np.add.accumulate: [ 1  3  6 10 15]\n",
      "np.multiply.accumulate: [  1   2   6  24 120]\n"
     ]
    }
   ],
   "source": [
    "print(\"np.add.accumulate:\", np.add.accumulate(x))\n",
    "print(\"np.multiply.accumulate:\", np.multiply.accumulate(x))\n"
   ]
  },
  {
   "cell_type": "markdown",
   "id": "77f9257e-cb96-44ea-90eb-8ac386b604e3",
   "metadata": {},
   "source": [
    "## Aggregations"
   ]
  },
  {
   "cell_type": "markdown",
   "id": "8043c396-063f-42aa-85e3-235fd40f3395",
   "metadata": {},
   "source": [
    "### `np.sum` vs Python `sum`\n",
    "\n",
    "Use `np.sum()` instead of Python’s built-in `sum()` for performance and better multidimensional support.\n",
    "\n",
    "\n",
    "\n"
   ]
  },
  {
   "cell_type": "code",
   "execution_count": 127,
   "id": "7dc04229-8a01-4ff2-ba94-43f1d5fa0ebb",
   "metadata": {},
   "outputs": [
    {
     "name": "stdout",
     "output_type": "stream",
     "text": [
      "94.6 ms ± 1.65 ms per loop (mean ± std. dev. of 7 runs, 10 loops each)\n",
      "586 μs ± 39 μs per loop (mean ± std. dev. of 7 runs, 1,000 loops each)\n"
     ]
    }
   ],
   "source": [
    "import numpy as np\n",
    "\n",
    "big_array = np.random.rand(1_000_000)\n",
    "\n",
    "# Python's built-in sum (slow)\n",
    "%timeit sum(big_array)\n",
    "\n",
    "# NumPy's optimized sum\n",
    "%timeit np.sum(big_array)\n"
   ]
  },
  {
   "cell_type": "markdown",
   "id": "0a96751a-5c85-403d-a8ab-a6e714c98483",
   "metadata": {},
   "source": [
    "### Fast Min & Max\n",
    "\n",
    "Use `np.min()` and `np.max()` over Python’s `min()`/`max()` for speed.\n",
    "\n",
    "You can also use `.min()` and `.max()` directly on NumPy arrays.\n"
   ]
  },
  {
   "cell_type": "code",
   "execution_count": 128,
   "id": "d08ab196-4128-4a7f-9605-35053902cbf6",
   "metadata": {},
   "outputs": [
    {
     "name": "stdout",
     "output_type": "stream",
     "text": [
      "60.6 ms ± 2.57 ms per loop (mean ± std. dev. of 7 runs, 10 loops each)\n",
      "597 μs ± 5.05 μs per loop (mean ± std. dev. of 7 runs, 1,000 loops each)\n",
      "1.4057692298008462e-06 0.9999994392723005\n"
     ]
    }
   ],
   "source": [
    "# Python built-in\n",
    "%timeit min(big_array)\n",
    "\n",
    "# NumPy optimized\n",
    "%timeit np.min(big_array)\n",
    "\n",
    "# Shorter syntax\n",
    "print(big_array.min(), big_array.max())\n"
   ]
  },
  {
   "cell_type": "markdown",
   "id": "6ec3bd16-360f-4b44-b601-8abb6a4589cb",
   "metadata": {},
   "source": [
    "### Aggregation with Axes\n",
    "\n",
    "- `axis=0`: collapse down rows → operate on columns  \n",
    "- `axis=1`: collapse down columns → operate on rows  \n",
    "Example: `min(axis=0)` returns column-wise minimums.\n"
   ]
  },
  {
   "cell_type": "code",
   "execution_count": 130,
   "id": "7b2cafa7-ed0f-444d-b0fd-8bfa3632fa07",
   "metadata": {},
   "outputs": [
    {
     "name": "stdout",
     "output_type": "stream",
     "text": [
      "[[0.79944159 0.55365709 0.80754132 0.60969576]\n",
      " [0.36284768 0.36196542 0.94772432 0.68212345]\n",
      " [0.44300384 0.61008711 0.04031012 0.25867995]]\n",
      "Sum: 6.477077660389182\n",
      "Col min: [0.36284768 0.36196542 0.04031012 0.25867995]\n",
      "Row max: [0.80754132 0.94772432 0.61008711]\n"
     ]
    }
   ],
   "source": [
    "M = np.random.random((3, 4))\n",
    "print(M)\n",
    "print(\"Sum:\", M.sum())               # Total sum\n",
    "print(\"Col min:\", M.min(axis=0))     # Min in each column\n",
    "print(\"Row max:\", M.max(axis=1))     # Max in each row\n"
   ]
  },
  {
   "cell_type": "markdown",
   "id": "7c0cb6e0-47ca-451a-a286-1a71ec03a468",
   "metadata": {},
   "source": [
    "### Basic Statistical Aggregates\n",
    "\n",
    "- `mean()`: average  \n",
    "- `std()`: standard deviation  \n",
    "- `median()`: middle value  \n",
    "Great for descriptive analysis.\n"
   ]
  },
  {
   "cell_type": "code",
   "execution_count": 131,
   "id": "7f70f030-4156-4c4e-9cbc-2e5ae60df6bc",
   "metadata": {},
   "outputs": [
    {
     "name": "stdout",
     "output_type": "stream",
     "text": [
      "Mean: 0.5397564716990985\n",
      "Std Dev: 0.24775667796616746\n",
      "Median: 0.5816764244588959\n"
     ]
    }
   ],
   "source": [
    "print(\"Mean:\", M.mean())\n",
    "print(\"Std Dev:\", M.std())\n",
    "print(\"Median:\", np.median(M))\n"
   ]
  },
  {
   "cell_type": "markdown",
   "id": "84f340db-a79c-447f-8bc9-f8f02d4850ca",
   "metadata": {},
   "source": [
    "### NaN-Safe Functions\n",
    "\n",
    "Use `np.nan*` versions like `np.nanmean`, `np.nanmin`, etc.  \n",
    "They skip over NaN values — useful in dirty or incomplete datasets.\n"
   ]
  },
  {
   "cell_type": "code",
   "execution_count": 132,
   "id": "cc84c26f-7d6d-4044-ad16-3d9488887f90",
   "metadata": {},
   "outputs": [
    {
     "name": "stdout",
     "output_type": "stream",
     "text": [
      "np.mean: nan\n",
      "np.nanmean: 1.5\n"
     ]
    }
   ],
   "source": [
    "arr = np.array([1.0, np.nan, 2.0, np.nan])\n",
    "\n",
    "print(\"np.mean:\", np.mean(arr))         # Gives nan\n",
    "print(\"np.nanmean:\", np.nanmean(arr))   # Skips NaNs\n"
   ]
  },
  {
   "cell_type": "markdown",
   "id": "6e9849dc-13c0-4ec1-a29a-d0cdbbbed687",
   "metadata": {},
   "source": [
    "### Logical Aggregates\n",
    "\n",
    "- `np.any`: returns True if **any** element is true  \n",
    "- `np.all`: returns True only if **all** are true  \n",
    "Helpful for condition checks and flag logic.\n"
   ]
  },
  {
   "cell_type": "code",
   "execution_count": 133,
   "id": "ea0f7d24-f1c3-4624-ba88-853957fecde7",
   "metadata": {},
   "outputs": [
    {
     "name": "stdout",
     "output_type": "stream",
     "text": [
      "Any true? True\n",
      "All true? False\n"
     ]
    }
   ],
   "source": [
    "bools = np.array([False, True, True])\n",
    "\n",
    "print(\"Any true?\", np.any(bools))\n",
    "print(\"All true?\", np.all(bools))\n"
   ]
  },
  {
   "cell_type": "markdown",
   "id": "8f0b3e1d-a8cb-4fad-a56f-2dc3616a9237",
   "metadata": {},
   "source": [
    "## Broadcasting\n"
   ]
  },
  {
   "cell_type": "markdown",
   "id": "31c0aa2e-6fc6-465f-b392-cb6d3e695833",
   "metadata": {},
   "source": [
    "### Simple Broadcasting\n",
    "A scalar (`b`) is broadcast to each element in the array `a`.  \n",
    "➡️ Result: `[11 12 13]`\n"
   ]
  },
  {
   "cell_type": "code",
   "execution_count": 136,
   "id": "e105b13b-d2fd-474d-b616-28909563e4f2",
   "metadata": {},
   "outputs": [
    {
     "name": "stdout",
     "output_type": "stream",
     "text": [
      "a + b: [11 12 13]\n"
     ]
    }
   ],
   "source": [
    "import numpy as np\n",
    "\n",
    "a = np.array([1, 2, 3])\n",
    "b = 10\n",
    "\n",
    "print(\"a + b:\", a + b)\n"
   ]
  },
  {
   "cell_type": "markdown",
   "id": "d5d339a6-190b-4afe-bec0-af2e75b05387",
   "metadata": {},
   "source": [
    "### Rules\n",
    "NumPy compares shapes from **right to left** and applies these rules:\n",
    "\n",
    "1. If dimensions differ, **pad the smaller shape with 1s on the left**.\n",
    "2. Dimensions are **compatible** when they are:\n",
    "   - Equal, or\n",
    "   - One of them is 1\n",
    "3. The result shape is the **element-wise maximum** of input shapes.\n",
    "\n",
    "📌 Broadcasting expands size-1 dimensions to match the other — but doesn't copy data in memory.\n"
   ]
  },
  {
   "cell_type": "markdown",
   "id": "75b00b7c-0f4b-45a9-86ff-e8d9ceeb279b",
   "metadata": {},
   "source": [
    "### Applying the Rules\n",
    "Shapes:\n",
    "- `A`: (3,1)\n",
    "- `B`: (4,) → treated as (1,4)\n",
    "\n",
    "Align right:\n",
    "A : (3,1)\n",
    "B : (1,4)\n",
    "→ Compatible → broadcasted shape: (3,4)"
   ]
  },
  {
   "cell_type": "code",
   "execution_count": 137,
   "id": "df7dbd1e-3e43-4e7b-84d4-7a2f1e0af847",
   "metadata": {},
   "outputs": [
    {
     "name": "stdout",
     "output_type": "stream",
     "text": [
      "Result C:\n",
      " [[1. 2. 3. 4.]\n",
      " [1. 2. 3. 4.]\n",
      " [1. 2. 3. 4.]]\n"
     ]
    }
   ],
   "source": [
    "A = np.ones((3, 1))   # shape (3,1)\n",
    "B = np.arange(4)      # shape (4,)\n",
    "\n",
    "C = A + B             # shape (3,4)\n",
    "print(\"Result C:\\n\", C)\n"
   ]
  },
  {
   "cell_type": "markdown",
   "id": "5f0e64e3-986f-4380-a889-55ecaa9f042f",
   "metadata": {},
   "source": [
    "### Broadcasting Failure Example\n",
    "\n",
    "Shapes:\n",
    "- `A`: (3,2)\n",
    "- `B`: (2,3)\n",
    "\n",
    "Alignment:\n",
    "\n",
    "A : (3,2)\n",
    "B : (2,3)\n",
    "→ Not compatible: No dimension is equal or 1 at each position"
   ]
  },
  {
   "cell_type": "code",
   "execution_count": 138,
   "id": "13a691c1-e448-429d-953e-81c3fd9d08c2",
   "metadata": {},
   "outputs": [
    {
     "ename": "ValueError",
     "evalue": "operands could not be broadcast together with shapes (3,2) (2,3) ",
     "output_type": "error",
     "traceback": [
      "\u001b[31m---------------------------------------------------------------------------\u001b[39m",
      "\u001b[31mValueError\u001b[39m                                Traceback (most recent call last)",
      "\u001b[36mCell\u001b[39m\u001b[36m \u001b[39m\u001b[32mIn[138]\u001b[39m\u001b[32m, line 7\u001b[39m\n\u001b[32m      4\u001b[39m B = np.ones((\u001b[32m2\u001b[39m, \u001b[32m3\u001b[39m))    \u001b[38;5;66;03m# shape (2,3)\u001b[39;00m\n\u001b[32m      6\u001b[39m \u001b[38;5;66;03m# This will raise a ValueError\u001b[39;00m\n\u001b[32m----> \u001b[39m\u001b[32m7\u001b[39m C = \u001b[43mA\u001b[49m\u001b[43m \u001b[49m\u001b[43m+\u001b[49m\u001b[43m \u001b[49m\u001b[43mB\u001b[49m\n",
      "\u001b[31mValueError\u001b[39m: operands could not be broadcast together with shapes (3,2) (2,3) "
     ]
    }
   ],
   "source": [
    "import numpy as np\n",
    "\n",
    "A = np.ones((3, 2))    # shape (3,2)\n",
    "B = np.ones((2, 3))    # shape (2,3)\n",
    "\n",
    "# This will raise a ValueError\n",
    "C = A + B\n"
   ]
  },
  {
   "cell_type": "markdown",
   "id": "cbe1a35e-dddb-4b3f-82bf-98d5ef5530f0",
   "metadata": {},
   "source": [
    "## Boolmasking and comparisons"
   ]
  },
  {
   "cell_type": "markdown",
   "id": "cccfe04c-42d4-43a7-a263-404f3cbfed24",
   "metadata": {},
   "source": [
    "### 🔍 Basic Comparison + Boolean Masking\n",
    "\n",
    "- `a > 5` creates a Boolean array: `[False, True, False, True, False]`\n",
    "- Using this as a mask: `a[mask] → [7, 9]`\n",
    "\n",
    "🧠 Use comparisons (`>`, `<`, `==`, `!=`, etc.) to generate masks  \n",
    "📌 Masks are just arrays of `True` or `False` values\n"
   ]
  },
  {
   "cell_type": "code",
   "execution_count": 139,
   "id": "52f933e8-06c4-497d-b7ec-db867b59d662",
   "metadata": {},
   "outputs": [
    {
     "name": "stdout",
     "output_type": "stream",
     "text": [
      "Mask: [False  True False  True False]\n",
      "Filtered result: [7 9]\n"
     ]
    }
   ],
   "source": [
    "import numpy as np\n",
    "\n",
    "a = np.array([3, 7, 2, 9, 5])\n",
    "\n",
    "mask = a > 5\n",
    "print(\"Mask:\", mask)\n",
    "print(\"Filtered result:\", a[mask])\n"
   ]
  },
  {
   "cell_type": "markdown",
   "id": "32042dfc-d73a-40ad-a052-0f02ec157b04",
   "metadata": {},
   "source": [
    "### 🔗 Compound Conditions\n",
    "\n",
    "- Combine masks using:\n",
    "  - `&` for AND\n",
    "  - `|` for OR\n",
    "  - `~` for NOT\n",
    "\n",
    "🚫 Don’t use Python’s `and` / `or`—use NumPy’s bitwise operators instead!\n",
    "\n",
    "➡️ `(a > 4) & (a < 8)` → `[False, True, False, False, True]`\n",
    "Filtered result: `[7, 5]`\n"
   ]
  },
  {
   "cell_type": "code",
   "execution_count": 140,
   "id": "c3cf241b-2347-475e-80f0-198ef6abdf11",
   "metadata": {},
   "outputs": [
    {
     "name": "stdout",
     "output_type": "stream",
     "text": [
      "Filtered: [7 5]\n"
     ]
    }
   ],
   "source": [
    "a = np.array([3, 7, 2, 9, 5])\n",
    "\n",
    "# Elements > 4 AND < 8\n",
    "mask = (a > 4) & (a < 8)\n",
    "print(\"Filtered:\", a[mask])\n"
   ]
  },
  {
   "cell_type": "markdown",
   "id": "97a4e794-dd56-47af-b813-e8fcbd1dc4ed",
   "metadata": {},
   "source": [
    "###  Masking Failure: Shape Mismatch\n",
    "\n",
    "- `a`: shape `(2, 2)`\n",
    "- `mask`: shape `(3,)` → incompatible!\n",
    "\n",
    " NumPy will raise:\n",
    "`IndexError: boolean index did not match indexed array`\n"
   ]
  },
  {
   "cell_type": "code",
   "execution_count": 141,
   "id": "5b52b872-7d79-4c36-b3b2-ad374624ba14",
   "metadata": {},
   "outputs": [
    {
     "ename": "IndexError",
     "evalue": "boolean index did not match indexed array along axis 0; size of axis is 2 but size of corresponding boolean axis is 3",
     "output_type": "error",
     "traceback": [
      "\u001b[31m---------------------------------------------------------------------------\u001b[39m",
      "\u001b[31mIndexError\u001b[39m                                Traceback (most recent call last)",
      "\u001b[36mCell\u001b[39m\u001b[36m \u001b[39m\u001b[32mIn[141]\u001b[39m\u001b[32m, line 4\u001b[39m\n\u001b[32m      1\u001b[39m a = np.array([[\u001b[32m1\u001b[39m, \u001b[32m2\u001b[39m], [\u001b[32m3\u001b[39m, \u001b[32m4\u001b[39m]])\n\u001b[32m      2\u001b[39m mask = np.array([\u001b[38;5;28;01mTrue\u001b[39;00m, \u001b[38;5;28;01mFalse\u001b[39;00m, \u001b[38;5;28;01mTrue\u001b[39;00m])  \u001b[38;5;66;03m# Shape mismatch\u001b[39;00m\n\u001b[32m----> \u001b[39m\u001b[32m4\u001b[39m \u001b[43ma\u001b[49m\u001b[43m[\u001b[49m\u001b[43mmask\u001b[49m\u001b[43m]\u001b[49m  \u001b[38;5;66;03m# ❌ Will raise IndexError\u001b[39;00m\n",
      "\u001b[31mIndexError\u001b[39m: boolean index did not match indexed array along axis 0; size of axis is 2 but size of corresponding boolean axis is 3"
     ]
    }
   ],
   "source": [
    "a = np.array([[1, 2], [3, 4]])\n",
    "mask = np.array([True, False, True])  # Shape mismatch\n",
    "\n",
    "a[mask]  # ❌ Will raise IndexError\n"
   ]
  },
  {
   "cell_type": "markdown",
   "id": "f94520a6-3eb1-430e-a2bd-3fc67c184b6d",
   "metadata": {},
   "source": [
    "## Fancy Indexing"
   ]
  },
  {
   "cell_type": "markdown",
   "id": "93446fdd-713e-4d7b-8db2-0385a75dd998",
   "metadata": {},
   "source": [
    "### 🎯 Fancy Indexing (Integer-based)\n",
    "\n",
    "- You use a list or array of integers to fetch specific elements.\n",
    "- `a[[0, 3, 4]]` → `[10, 40, 50]`\n",
    "\n",
    "🧠 Fancy indexing doesn’t change the original array—it creates a new one.\n"
   ]
  },
  {
   "cell_type": "code",
   "execution_count": 142,
   "id": "6f849a4e-5549-408b-81c6-30c7e8b73ca2",
   "metadata": {},
   "outputs": [
    {
     "name": "stdout",
     "output_type": "stream",
     "text": [
      "Selected values: [10 40 50]\n"
     ]
    }
   ],
   "source": [
    "import numpy as np\n",
    "\n",
    "a = np.array([10, 20, 30, 40, 50])\n",
    "\n",
    "indices = [0, 3, 4]\n",
    "selected = a[indices]\n",
    "\n",
    "print(\"Selected values:\", selected)\n"
   ]
  },
  {
   "cell_type": "markdown",
   "id": "8feeb39d-3003-43b0-84d0-ac19b775625f",
   "metadata": {},
   "source": [
    "### 🎲 Fancy Indexing (2D)\n",
    "\n",
    "- `a[[0, 2], [1, 0]]` selects:\n",
    "  - Element at (0,1): 12\n",
    "  - Element at (2,0): 15\n",
    "➡️ Output: `[12, 15]`\n",
    "\n",
    "📌 When indexing both axes: the i-th item in each list is combined into a coordinate.\n"
   ]
  },
  {
   "cell_type": "code",
   "execution_count": 143,
   "id": "82a9d7b1-85cf-48b2-a8a1-78dbc2f0c9b8",
   "metadata": {},
   "outputs": [
    {
     "name": "stdout",
     "output_type": "stream",
     "text": [
      "Result: [12 15]\n"
     ]
    }
   ],
   "source": [
    "a = np.array([[11, 12], [13, 14], [15, 16]])\n",
    "\n",
    "rows = [0, 2]\n",
    "cols = [1, 0]\n",
    "\n",
    "# Select specific element pairs\n",
    "result = a[rows, cols]\n",
    "print(\"Result:\", result)\n"
   ]
  },
  {
   "cell_type": "markdown",
   "id": "8b5b35d1-5b24-4694-8bc0-39d14203db04",
   "metadata": {},
   "source": [
    "## Sorting in Numpy"
   ]
  },
  {
   "cell_type": "markdown",
   "id": "dee4990c-f840-4b4f-ba84-362ab6856054",
   "metadata": {},
   "source": [
    "###  Sorting with `np.sort()`\n",
    "\n",
    "- Returns a **sorted copy** of the array (original is unchanged).\n",
    "- Default: ascending order.\n",
    "\n",
    " You can sort along an axis using `np.sort(arr, axis=...)`\n"
   ]
  },
  {
   "cell_type": "code",
   "execution_count": 144,
   "id": "98617caf-b34b-4e14-ab8c-2d6568847722",
   "metadata": {},
   "outputs": [
    {
     "name": "stdout",
     "output_type": "stream",
     "text": [
      "Sorted array: [ 7 17 23 42 88]\n"
     ]
    }
   ],
   "source": [
    "import numpy as np\n",
    "\n",
    "a = np.array([42, 17, 23, 7, 88])\n",
    "\n",
    "sorted_a = np.sort(a)\n",
    "print(\"Sorted array:\", sorted_a)\n"
   ]
  },
  {
   "cell_type": "markdown",
   "id": "545574f1-d485-4c5d-8578-b3f8b89043de",
   "metadata": {},
   "source": [
    "###  In-Place Sorting\n",
    "\n",
    "- `.sort()` modifies the original array directly.\n",
    "➡️ More memory-efficient than `np.sort()`\n",
    "\n",
    " Use when you don't need to preserve the original array\n"
   ]
  },
  {
   "cell_type": "code",
   "execution_count": 145,
   "id": "2f372420-d32e-4a09-abdc-8e36766c078d",
   "metadata": {},
   "outputs": [
    {
     "name": "stdout",
     "output_type": "stream",
     "text": [
      "In-place sorted: [1 3 7 9]\n"
     ]
    }
   ],
   "source": [
    "a = np.array([9, 3, 1, 7])\n",
    "a.sort()\n",
    "print(\"In-place sorted:\", a)\n"
   ]
  },
  {
   "cell_type": "markdown",
   "id": "f4bc710c-5764-454b-bfc7-2e26238ade1d",
   "metadata": {},
   "source": [
    "###  Sorting Along Axes\n",
    "\n",
    "- `axis=1`: sort each row\n",
    "- `axis=0`: sort each column\n",
    "\n",
    " Powerful for matrix-style data cleanup!\n"
   ]
  },
  {
   "cell_type": "code",
   "execution_count": 146,
   "id": "09c16901-f2bb-4ccc-bcbf-1e377b63c754",
   "metadata": {},
   "outputs": [
    {
     "name": "stdout",
     "output_type": "stream",
     "text": [
      "Sort by row:\n",
      " [[2 3 5]\n",
      " [1 6 9]]\n",
      "Sort by column:\n",
      " [[5 1 3]\n",
      " [9 2 6]]\n"
     ]
    }
   ],
   "source": [
    "a = np.array([[5, 2, 3], [9, 1, 6]])\n",
    "\n",
    "print(\"Sort by row:\\n\", np.sort(a, axis=1))\n",
    "print(\"Sort by column:\\n\", np.sort(a, axis=0))\n"
   ]
  },
  {
   "cell_type": "markdown",
   "id": "88ea370c-4222-4cac-8373-89bad45a8a74",
   "metadata": {},
   "source": [
    "###  Sorting Indices with `np.argsort()`\n",
    "\n",
    "- Returns indices that would sort the array.\n",
    "- Handy for **ranking**, **ordering**, or **custom sorting**.\n",
    "\n",
    "Example:\n",
    "- Array: `[50, 20, 30]`\n",
    "- Indices: `[1, 2, 0]`\n",
    "➡️ Sorted: `[20, 30, 50]`\n"
   ]
  },
  {
   "cell_type": "code",
   "execution_count": 147,
   "id": "b161d6e9-e273-498f-a6fa-48544e5f9dc8",
   "metadata": {},
   "outputs": [
    {
     "name": "stdout",
     "output_type": "stream",
     "text": [
      "Indices: [1 2 0]\n",
      "Sorted using indices: [20 30 50]\n"
     ]
    }
   ],
   "source": [
    "a = np.array([50, 20, 30])\n",
    "\n",
    "idx = np.argsort(a)\n",
    "print(\"Indices:\", idx)\n",
    "print(\"Sorted using indices:\", a[idx])\n"
   ]
  },
  {
   "cell_type": "code",
   "execution_count": null,
   "id": "bf46f523-389c-494c-a8d7-7f6d45107218",
   "metadata": {},
   "outputs": [],
   "source": []
  }
 ],
 "metadata": {
  "kernelspec": {
   "display_name": "Python (pandasenv)",
   "language": "python",
   "name": "pandasenv"
  },
  "language_info": {
   "codemirror_mode": {
    "name": "ipython",
    "version": 3
   },
   "file_extension": ".py",
   "mimetype": "text/x-python",
   "name": "python",
   "nbconvert_exporter": "python",
   "pygments_lexer": "ipython3",
   "version": "3.11.5"
  }
 },
 "nbformat": 4,
 "nbformat_minor": 5
}

{
 "cells": [
  {
   "cell_type": "markdown",
   "id": "bea2ef99-6a57-48a7-bc1c-f7822a6d229f",
   "metadata": {},
   "source": [
    "# Demo Session 1\n",
    "## Why Numpy?\n",
    "### Python list is Flexible but not Fast\n"
   ]
  },
  {
   "cell_type": "code",
   "execution_count": 1,
   "id": "5615c723-80d7-4624-9734-ea5286df359d",
   "metadata": {},
   "outputs": [
    {
     "name": "stdout",
     "output_type": "stream",
     "text": [
      "List: [1, 2, 3, 4, 5]\n",
      "Type of first element: <class 'int'>\n",
      "Memory per element: 28\n",
      "Total memory: 104\n"
     ]
    }
   ],
   "source": [
    "import sys\n",
    "\n",
    "l = [1, 2, 3, 4, 5]\n",
    "print(\"List:\", l)\n",
    "print(\"Type of 1st ele:\", type(lst[0]))\n",
    "print(\"Memory per ele:\", sys.getsizeof(lst[0]))\n",
    "print(\"Total memory:\", sys.getsizeof(lst))\n"
   ]
  },
  {
   "cell_type": "markdown",
   "id": "6c431189-d75d-49d6-8370-ec3697ec378c",
   "metadata": {},
   "source": [
    "### Python array Module – Fixed Type but Limited"
   ]
  },
  {
   "cell_type": "code",
   "execution_count": 4,
   "id": "5b61e6c3-d61a-44ba-8d70-a839bdae8601",
   "metadata": {},
   "outputs": [
    {
     "name": "stdout",
     "output_type": "stream",
     "text": [
      "Array: array('i', [1, 2, 3, 4, 5])\n",
      "Type of first element: <class 'int'>\n"
     ]
    }
   ],
   "source": [
    "import array\n",
    "\n",
    "arr = array.array('i', [1, 2, 3, 4, 5])\n",
    "print(\"Array:\", arr)\n",
    "print(\"Type of first element:\", type(arr[0]))\n"
   ]
  },
  {
   "cell_type": "markdown",
   "id": "751c16b9-89d5-4413-b951-5347d6295c50",
   "metadata": {},
   "source": [
    "### NumPy Arrays – Fast, Compact, Powerful"
   ]
  },
  {
   "cell_type": "code",
   "execution_count": 5,
   "id": "dba7cc06-4fa0-444e-9908-63abe98f5671",
   "metadata": {},
   "outputs": [
    {
     "name": "stdout",
     "output_type": "stream",
     "text": [
      "NumPy Array: [1 2 3 4 5]\n",
      "Type of first element: <class 'numpy.int64'>\n",
      "Memory per element: 8\n",
      "Total memory: 40\n"
     ]
    }
   ],
   "source": [
    "import numpy as np\n",
    "\n",
    "np_arr = np.array([1, 2, 3, 4, 5])\n",
    "print(\"NumPy Array:\", np_arr)\n",
    "print(\"Type of first element:\", type(np_arr[0]))\n",
    "print(\"Memory per element:\", np_arr.itemsize)\n",
    "print(\"Total memory:\", np_arr.nbytes)\n"
   ]
  },
  {
   "cell_type": "markdown",
   "id": "8fb8ca00-b475-4a52-a53c-a2f0c00b6c1f",
   "metadata": {},
   "source": [
    "### Performance Comparison"
   ]
  },
  {
   "cell_type": "code",
   "execution_count": 11,
   "id": "39f11544-707c-46a7-9e94-ae97d25630f3",
   "metadata": {},
   "outputs": [
    {
     "name": "stdout",
     "output_type": "stream",
     "text": [
      "Python list sum time: 0.009799718856811523\n",
      "NumPy array sum time: 0.0\n"
     ]
    }
   ],
   "source": [
    "import time\n",
    "\n",
    "big_list = list(range(1000000))\n",
    "start = time.time()\n",
    "sum(big_list)\n",
    "print(\"Python list sum time:\", time.time() - start)\n",
    "\n",
    "big_np = np.arange(1000000)\n",
    "start = time.time()\n",
    "np.sum(big_np)\n",
    "print(\"NumPy array sum time:\", time.time() - start)\n"
   ]
  },
  {
   "cell_type": "markdown",
   "id": "7e63c0e8-9e51-4194-82cd-cf45946e72ba",
   "metadata": {},
   "source": [
    "### Questions\n",
    "#### What happens if you mix types in a NumPy array?\n"
   ]
  },
  {
   "cell_type": "code",
   "execution_count": 12,
   "id": "1b49861c-463e-4391-a57a-9450b83504fd",
   "metadata": {},
   "outputs": [
    {
     "name": "stdout",
     "output_type": "stream",
     "text": [
      "['1' '2.5' 'three']\n",
      "<U32\n"
     ]
    }
   ],
   "source": [
    "import numpy as np\n",
    "\n",
    "arr = np.array([1, 2.5, 'three'])\n",
    "print(arr)           \n",
    "print(arr.dtype)     # <U32 (Unicode string)\n"
   ]
  },
  {
   "cell_type": "markdown",
   "id": "ba0fb2fc-8f0d-42b9-8c2c-a01783a768b3",
   "metadata": {},
   "source": [
    "#### Can you do math directly on a Python list?"
   ]
  },
  {
   "cell_type": "code",
   "execution_count": 15,
   "id": "eed2d254-857b-4772-9016-2deb535209ad",
   "metadata": {},
   "outputs": [
    {
     "name": "stdout",
     "output_type": "stream",
     "text": [
      "[1, 2, 3, 1, 2, 3]\n"
     ]
    }
   ],
   "source": [
    "lst = [1, 2, 3]\n",
    "print(lst * 2)        # [1, 2, 3, 1, 2, 3] – list repetition\n",
    "# print(lst + 1) "
   ]
  },
  {
   "cell_type": "markdown",
   "id": "215d5745-bdfc-4fbb-80f5-c87b88670c3e",
   "metadata": {},
   "source": [
    "#### What does np.array([1, '2', 3.0]).dtype return?"
   ]
  },
  {
   "cell_type": "code",
   "execution_count": 16,
   "id": "189fea03-a572-4f69-8e82-04aa5e247fc5",
   "metadata": {},
   "outputs": [
    {
     "name": "stdout",
     "output_type": "stream",
     "text": [
      "['1' '2' '3.0']\n",
      "<U32\n"
     ]
    }
   ],
   "source": [
    "arr = np.array([1, '2', 3.0])\n",
    "print(arr)\n",
    "print(arr.dtype)"
   ]
  },
  {
   "cell_type": "markdown",
   "id": "a6bf3a22-0660-4107-8f59-9a6727dc4b63",
   "metadata": {},
   "source": [
    "## Creating Arrays from Python Lists\n"
   ]
  },
  {
   "cell_type": "markdown",
   "id": "3125f06d-0d3a-4070-a9eb-f0ece065964b",
   "metadata": {},
   "source": [
    "### Basic Array Creation"
   ]
  },
  {
   "cell_type": "code",
   "execution_count": 17,
   "id": "0ec5d57f-7455-45ad-91c0-5f0789294219",
   "metadata": {},
   "outputs": [
    {
     "name": "stdout",
     "output_type": "stream",
     "text": [
      "Array: [1 2 3 4]\n",
      "Type: <class 'numpy.ndarray'>\n",
      "Data type: int64\n"
     ]
    }
   ],
   "source": [
    "import numpy as np\n",
    "\n",
    "lst = [1, 2, 3, 4]\n",
    "arr = np.array(lst)\n",
    "print(\"Array:\", arr)\n",
    "print(\"Type:\", type(arr))\n",
    "print(\"Data type:\", arr.dtype)\n"
   ]
  },
  {
   "cell_type": "markdown",
   "id": "1b4f4271-e839-4227-86e3-c9102a9d1191",
   "metadata": {},
   "source": [
    "### Nested Lists → Multidimensional Arrays"
   ]
  },
  {
   "cell_type": "code",
   "execution_count": 18,
   "id": "8603b52e-6566-4ef8-968c-fb47608bd3cc",
   "metadata": {},
   "outputs": [
    {
     "name": "stdout",
     "output_type": "stream",
     "text": [
      "2D Array:\n",
      " [[1 2]\n",
      " [3 4]]\n",
      "Shape: (2, 2)\n"
     ]
    }
   ],
   "source": [
    "nested = [[1, 2], [3, 4]]\n",
    "arr2d = np.array(nested)\n",
    "print(\"2D Array:\\n\", arr2d)\n",
    "print(\"Shape:\", arr2d.shape)\n"
   ]
  },
  {
   "cell_type": "markdown",
   "id": "b0980cd8-6e46-473c-a2dd-27a795d54921",
   "metadata": {},
   "source": [
    "### Explicit dtype Control"
   ]
  },
  {
   "cell_type": "code",
   "execution_count": 19,
   "id": "d78bfda7-233c-4c02-a74a-ed69087f3cd3",
   "metadata": {},
   "outputs": [
    {
     "name": "stdout",
     "output_type": "stream",
     "text": [
      "Float Array: [1. 2. 3.]\n",
      "Data type: float64\n"
     ]
    }
   ],
   "source": [
    "arr_float = np.array([1, 2, 3], dtype=float)\n",
    "print(\"Float Array:\", arr_float)\n",
    "print(\"Data type:\", arr_float.dtype)\n"
   ]
  },
  {
   "cell_type": "markdown",
   "id": "f9bc72af-d137-4411-a2d4-ffdbe5ae3af4",
   "metadata": {},
   "source": [
    "### Trickier Case: Ragged Nested Lists"
   ]
  },
  {
   "cell_type": "code",
   "execution_count": 20,
   "id": "f94ab36e-f9eb-4fae-a741-9f0d6edf92b2",
   "metadata": {},
   "outputs": [
    {
     "ename": "ValueError",
     "evalue": "setting an array element with a sequence. The requested array has an inhomogeneous shape after 1 dimensions. The detected shape was (2,) + inhomogeneous part.",
     "output_type": "error",
     "traceback": [
      "\u001b[31m---------------------------------------------------------------------------\u001b[39m",
      "\u001b[31mValueError\u001b[39m                                Traceback (most recent call last)",
      "\u001b[36mCell\u001b[39m\u001b[36m \u001b[39m\u001b[32mIn[20]\u001b[39m\u001b[32m, line 2\u001b[39m\n\u001b[32m      1\u001b[39m ragged = [[\u001b[32m1\u001b[39m, \u001b[32m2\u001b[39m], [\u001b[32m3\u001b[39m, \u001b[32m4\u001b[39m, \u001b[32m5\u001b[39m]]\n\u001b[32m----> \u001b[39m\u001b[32m2\u001b[39m arr_ragged = \u001b[43mnp\u001b[49m\u001b[43m.\u001b[49m\u001b[43marray\u001b[49m\u001b[43m(\u001b[49m\u001b[43mragged\u001b[49m\u001b[43m)\u001b[49m\n\u001b[32m      3\u001b[39m \u001b[38;5;28mprint\u001b[39m(\u001b[33m\"\u001b[39m\u001b[33mRagged Array:\u001b[39m\u001b[33m\"\u001b[39m, arr_ragged)\n\u001b[32m      4\u001b[39m \u001b[38;5;28mprint\u001b[39m(\u001b[33m\"\u001b[39m\u001b[33mData type:\u001b[39m\u001b[33m\"\u001b[39m, arr_ragged.dtype)\n",
      "\u001b[31mValueError\u001b[39m: setting an array element with a sequence. The requested array has an inhomogeneous shape after 1 dimensions. The detected shape was (2,) + inhomogeneous part."
     ]
    }
   ],
   "source": [
    "ragged = [[1, 2], [3, 4, 5]]\n",
    "arr_ragged = np.array(ragged)\n",
    "print(\"Ragged Array:\", arr_ragged)\n",
    "print(\"Data type:\", arr_ragged.dtype)\n"
   ]
  },
  {
   "cell_type": "markdown",
   "id": "156d921a-fdfb-4923-a937-bdd681f8b7a4",
   "metadata": {},
   "source": [
    "## Creating Arrays from Scratch"
   ]
  },
  {
   "cell_type": "code",
   "execution_count": 21,
   "id": "6535d083-9e0b-4dc1-ba3b-8bb9608118ff",
   "metadata": {},
   "outputs": [
    {
     "data": {
      "text/plain": [
       "array([0, 0, 0, 0, 0, 0, 0, 0, 0, 0])"
      ]
     },
     "execution_count": 21,
     "metadata": {},
     "output_type": "execute_result"
    }
   ],
   "source": [
    "# Create a length-10 integer array filled with zeros\n",
    "np.zeros(10, dtype=int)\n"
   ]
  },
  {
   "cell_type": "code",
   "execution_count": 22,
   "id": "0a5401f9-e58e-4a9c-8d25-800f184a6bc5",
   "metadata": {},
   "outputs": [
    {
     "data": {
      "text/plain": [
       "array([[1., 1., 1., 1., 1.],\n",
       "       [1., 1., 1., 1., 1.],\n",
       "       [1., 1., 1., 1., 1.]])"
      ]
     },
     "execution_count": 22,
     "metadata": {},
     "output_type": "execute_result"
    }
   ],
   "source": [
    "# Create a 3x5 floating-point array filled with ones\n",
    "np.ones((3, 5), dtype=float)\n"
   ]
  },
  {
   "cell_type": "code",
   "execution_count": 23,
   "id": "a8aa5f49-4432-477f-be58-a9ffe4dc4a17",
   "metadata": {},
   "outputs": [
    {
     "data": {
      "text/plain": [
       "array([[3.14, 3.14, 3.14, 3.14, 3.14],\n",
       "       [3.14, 3.14, 3.14, 3.14, 3.14],\n",
       "       [3.14, 3.14, 3.14, 3.14, 3.14]])"
      ]
     },
     "execution_count": 23,
     "metadata": {},
     "output_type": "execute_result"
    }
   ],
   "source": [
    "# Create a 3x5 array filled with 3.14\n",
    "np.full((3, 5), 3.14)\n"
   ]
  },
  {
   "cell_type": "code",
   "execution_count": 24,
   "id": "b04b2a65-7d6d-4b30-9b65-f13a39f48506",
   "metadata": {},
   "outputs": [
    {
     "data": {
      "text/plain": [
       "array([ 0,  2,  4,  6,  8, 10, 12, 14, 16, 18])"
      ]
     },
     "execution_count": 24,
     "metadata": {},
     "output_type": "execute_result"
    }
   ],
   "source": [
    "# Create an array filled with a linear sequence\n",
    "# Starting at 0, ending at 20, stepping by 2\n",
    "np.arange(0, 20, 2)\n"
   ]
  },
  {
   "cell_type": "code",
   "execution_count": 25,
   "id": "a445473d-45e3-498f-829d-d3d4547d46ad",
   "metadata": {},
   "outputs": [
    {
     "data": {
      "text/plain": [
       "array([0.  , 0.25, 0.5 , 0.75, 1.  ])"
      ]
     },
     "execution_count": 25,
     "metadata": {},
     "output_type": "execute_result"
    }
   ],
   "source": [
    "# Create an array of five values evenly spaced between 0 and 1\n",
    "np.linspace(0, 1, 5)\n"
   ]
  },
  {
   "cell_type": "code",
   "execution_count": 26,
   "id": "6b103940-db78-415f-92cd-da9d5da30534",
   "metadata": {},
   "outputs": [
    {
     "data": {
      "text/plain": [
       "array([[0.46810639, 0.32340685, 0.60374496],\n",
       "       [0.62658452, 0.61927572, 0.6139466 ],\n",
       "       [0.7222453 , 0.76053457, 0.66654941]])"
      ]
     },
     "execution_count": 26,
     "metadata": {},
     "output_type": "execute_result"
    }
   ],
   "source": [
    "# Create a 3x3 array of uniformly distributed random values between 0 and 1\n",
    "np.random.random((3, 3))\n"
   ]
  },
  {
   "cell_type": "code",
   "execution_count": 27,
   "id": "bfbca71b-441c-4c9e-b5c1-8980bd551743",
   "metadata": {},
   "outputs": [
    {
     "data": {
      "text/plain": [
       "array([[ 1.59265914, -0.8869041 , -0.27125059],\n",
       "       [-0.99635947,  1.10577389, -0.66799152],\n",
       "       [ 0.01933182,  1.9788186 , -1.25655071]])"
      ]
     },
     "execution_count": 27,
     "metadata": {},
     "output_type": "execute_result"
    }
   ],
   "source": [
    "# Create a 3x3 array of normally distributed random values\n",
    "# with mean 0 and standard deviation 1\n",
    "np.random.normal(0, 1, (3, 3))\n"
   ]
  },
  {
   "cell_type": "code",
   "execution_count": 28,
   "id": "b03e8164-7b2b-45ca-81e1-45db283e0ad7",
   "metadata": {},
   "outputs": [
    {
     "data": {
      "text/plain": [
       "array([[2, 9, 9],\n",
       "       [5, 9, 7],\n",
       "       [3, 7, 4]], dtype=int32)"
      ]
     },
     "execution_count": 28,
     "metadata": {},
     "output_type": "execute_result"
    }
   ],
   "source": [
    "# Create a 3x3 array of random integers in the interval [0, 10)\n",
    "np.random.randint(0, 10, (3, 3))\n"
   ]
  },
  {
   "cell_type": "code",
   "execution_count": 29,
   "id": "a49d8715-70bd-4523-b90e-b2cb26530b15",
   "metadata": {},
   "outputs": [
    {
     "data": {
      "text/plain": [
       "array([[1., 0., 0.],\n",
       "       [0., 1., 0.],\n",
       "       [0., 0., 1.]])"
      ]
     },
     "execution_count": 29,
     "metadata": {},
     "output_type": "execute_result"
    }
   ],
   "source": [
    "# Create a 3x3 identity matrix\n",
    "np.eye(3)\n"
   ]
  },
  {
   "cell_type": "code",
   "execution_count": 60,
   "id": "330fa6d8-375d-4c07-b25b-3c17fa01361c",
   "metadata": {},
   "outputs": [
    {
     "data": {
      "text/plain": [
       "array([1., 1., 1.])"
      ]
     },
     "execution_count": 60,
     "metadata": {},
     "output_type": "execute_result"
    }
   ],
   "source": [
    "# Create an uninitialized array of three integers\n",
    "np.empty(3)\n"
   ]
  },
  {
   "cell_type": "markdown",
   "id": "c22cce41-4843-4b59-8fd1-4e954104f820",
   "metadata": {},
   "source": [
    "## NumPy Standard Data Types"
   ]
  },
  {
   "cell_type": "code",
   "execution_count": 61,
   "id": "e777cb53-0440-4de1-bc65-0f642e49e6d7",
   "metadata": {},
   "outputs": [
    {
     "data": {
      "text/plain": [
       "array([0, 0, 0, 0, 0, 0, 0, 0, 0, 0], dtype=int16)"
      ]
     },
     "execution_count": 61,
     "metadata": {},
     "output_type": "execute_result"
    }
   ],
   "source": [
    "# Specifying dtype using string\n",
    "np.zeros(10, dtype='int16')\n",
    "\n",
    "# Specifying dtype using NumPy object\n",
    "np.zeros(10, dtype=np.int16)\n"
   ]
  },
  {
   "cell_type": "markdown",
   "id": "06ceb263-ef45-4879-8e96-df409908e050",
   "metadata": {},
   "source": [
    "### Common NumPy Data Types\n",
    "\n",
    "| Type      | Description                      | Example dtype     |\n",
    "|-----------|----------------------------------|-------------------|\n",
    "| `bool_`   | Boolean (True or False)          | `np.bool_`        |\n",
    "| `int_`    | Default integer (platform-based) | `np.int32`, `np.int64` |\n",
    "| `uint`    | Unsigned integer                 | `np.uint8`, `np.uint16` |\n",
    "| `float_`  | Floating point                   | `np.float32`, `np.float64` |\n",
    "| `complex_`| Complex numbers                  | `np.complex64`, `np.complex128` |\n",
    "| `str_`    | Fixed-length string              | `np.str_`         |\n",
    "| `object_` | Arbitrary Python objects         | `np.object_`      |\n",
    "\n",
    "Use smaller types (e.g., `int8`, `float32`) for memory efficiency.  \n",
    "Use larger types (e.g., `int64`, `float64`) for precision.\n",
    "\n"
   ]
  },
  {
   "cell_type": "markdown",
   "id": "ea38fa58-d2b0-47a6-90e9-53de62ce2365",
   "metadata": {},
   "source": [
    "### Type Casting\n",
    "Use `.astype()` to convert between types.  \n",
    "Note: Casting from float to int truncates decimals.\n"
   ]
  },
  {
   "cell_type": "code",
   "execution_count": 62,
   "id": "1978e6af-54c6-4136-85aa-985e2b8ea91b",
   "metadata": {},
   "outputs": [
    {
     "data": {
      "text/plain": [
       "array([1, 2, 3], dtype=int32)"
      ]
     },
     "execution_count": 62,
     "metadata": {},
     "output_type": "execute_result"
    }
   ],
   "source": [
    "# Cast float array to int\n",
    "arr = np.array([1.7, 2.3, 3.9], dtype=np.float32)\n",
    "arr.astype(np.int32)\n"
   ]
  },
  {
   "cell_type": "code",
   "execution_count": null,
   "id": "0f6688b2-aa6f-4d8b-ad4e-1449d3463333",
   "metadata": {},
   "outputs": [],
   "source": []
  },
  {
   "cell_type": "markdown",
   "id": "036abe9d-11d5-42fd-abcf-561fe0ad289c",
   "metadata": {},
   "source": [
    "### ❓ FAQs\n",
    "\n",
    "**Q1: What happens if I mix types in a list?**  \n",
    "NumPy will upcast to the most general type to preserve data.\n",
    "\n",
    "**Q2: Can I store strings or objects in NumPy arrays?**  \n",
    "Yes, using `np.str_` or `np.object_`, but performance may suffer.\n",
    "\n",
    "**Q3: How do I check the dtype of an array?**  \n",
    "Use `.dtype` → `arr.dtype`\n"
   ]
  },
  {
   "cell_type": "markdown",
   "id": "9602762d-2600-43e1-ac8e-ca4cadd96b04",
   "metadata": {},
   "source": [
    "## Numpy Attributes"
   ]
  },
  {
   "cell_type": "markdown",
   "id": "95acff1a-3a63-4584-b920-00c147885d23",
   "metadata": {},
   "source": [
    "### Creating Arrays of Different Dimensions\n",
    "We use `np.random.randint()` to generate random integers.  \n",
    "Seeding ensures reproducibility.  \n",
    "We'll explore attributes of 1D, 2D, and 3D arrays.\n"
   ]
  },
  {
   "cell_type": "code",
   "execution_count": 73,
   "id": "b840acde-87c4-4fc3-9323-91a657994ca3",
   "metadata": {},
   "outputs": [
    {
     "name": "stdout",
     "output_type": "stream",
     "text": [
      "x1 (1D array):\n",
      "[6 3 3 7 3 7]\n",
      "\n",
      "x2 (2D array):\n",
      "[[2 4 7 5]\n",
      " [2 4 3 7]\n",
      " [3 9 0 7]]\n",
      "\n",
      "x3 (3D array):\n",
      "[[[5 8 7 0 7]\n",
      "  [7 1 1 3 9]\n",
      "  [5 6 9 4 3]\n",
      "  [0 6 6 2 3]]\n",
      "\n",
      " [[4 6 8 6 5]\n",
      "  [5 1 2 3 1]\n",
      "  [6 2 4 1 2]\n",
      "  [0 1 2 3 5]]\n",
      "\n",
      " [[3 1 7 4 7]\n",
      "  [5 3 1 8 7]\n",
      "  [0 9 2 4 6]\n",
      "  [8 2 1 9 5]]]\n"
     ]
    }
   ],
   "source": [
    "import numpy as np\n",
    "\n",
    "x1 = np.random.randint(10, size=6)         # 1D array\n",
    "x2 = np.random.randint(10, size=(3, 4))    # 2D array\n",
    "x3 = np.random.randint(10, size=(3, 4, 5)) # 3D array\n",
    "\n",
    "print(\"x1 (1D array):\")\n",
    "print(x1)\n",
    "\n",
    "print(\"\\nx2 (2D array):\")\n",
    "print(x2)\n",
    "\n",
    "print(\"\\nx3 (3D array):\")\n",
    "print(x3)\n"
   ]
  },
  {
   "cell_type": "markdown",
   "id": "ea6518cf-f884-4d1a-aee4-fb6079120d1c",
   "metadata": {},
   "source": [
    "### Array Dimensionality, Shape, and Size\n",
    "\n",
    "- `ndim`: Number of dimensions  \n",
    "- `shape`: Size of each dimension  \n",
    "- `size`: Total number of elements\n",
    "\n",
    "These attributes help you understand the structure of your data.\n"
   ]
  },
  {
   "cell_type": "code",
   "execution_count": 64,
   "id": "99ba7a12-6808-4e90-ab17-12d76859388f",
   "metadata": {},
   "outputs": [
    {
     "name": "stdout",
     "output_type": "stream",
     "text": [
      "x1 ndim: 1\n",
      "x1 shape: (6,)\n",
      "x1 size: 6\n",
      "x2 ndim: 2\n",
      "x2 shape: (3, 4)\n",
      "x2 size: 12\n",
      "x3 ndim: 3\n",
      "x3 shape: (3, 4, 5)\n",
      "x3 size: 60\n"
     ]
    }
   ],
   "source": [
    "print(\"x1 ndim:\", x1.ndim)\n",
    "print(\"x1 shape:\", x1.shape)\n",
    "print(\"x1 size:\", x1.size)\n",
    "\n",
    "print(\"x2 ndim:\", x2.ndim)\n",
    "print(\"x2 shape:\", x2.shape)\n",
    "print(\"x2 size:\", x2.size)\n",
    "\n",
    "print(\"x3 ndim:\", x3.ndim)\n",
    "print(\"x3 shape:\", x3.shape)\n",
    "print(\"x3 size:\", x3.size)\n"
   ]
  },
  {
   "cell_type": "markdown",
   "id": "b693dc60-1c43-4cff-853d-d30d5fb42545",
   "metadata": {},
   "source": [
    "### Data Type (`dtype`)\n",
    "Shows the type of elements stored in the array.  \n",
    "In this case, it's `int64` — 64-bit integers.\n"
   ]
  },
  {
   "cell_type": "code",
   "execution_count": 65,
   "id": "ab3de96f-ac54-4c29-ac6c-97191dc6f28c",
   "metadata": {},
   "outputs": [
    {
     "name": "stdout",
     "output_type": "stream",
     "text": [
      "x3 dtype: int32\n"
     ]
    }
   ],
   "source": [
    "print(\"x3 dtype:\", x3.dtype)\n"
   ]
  },
  {
   "cell_type": "markdown",
   "id": "3251f04c-7f83-45d9-b17e-6b97ff47f102",
   "metadata": {},
   "source": [
    "### Memory Attributes\n",
    "\n",
    "- `itemsize`: Size of one element in bytes  \n",
    "- `nbytes`: Total memory used by the array\n",
    "\n",
    "✅ `nbytes = itemsize × size` — useful for memory profiling.\n"
   ]
  },
  {
   "cell_type": "code",
   "execution_count": 66,
   "id": "4ec47d49-303c-439b-9f4d-46b2c2dce654",
   "metadata": {},
   "outputs": [
    {
     "name": "stdout",
     "output_type": "stream",
     "text": [
      "x3 itemsize: 4 bytes\n",
      "x3 nbytes: 240 bytes\n",
      "Expected nbytes: 240\n"
     ]
    }
   ],
   "source": [
    "print(\"x3 itemsize:\", x3.itemsize, \"bytes\")\n",
    "print(\"x3 nbytes:\", x3.nbytes, \"bytes\")\n",
    "print(\"Expected nbytes:\", x3.itemsize * x3.size)\n"
   ]
  },
  {
   "cell_type": "markdown",
   "id": "b319c9d4-fe3b-4a1b-a54c-c6b1e4e66b07",
   "metadata": {},
   "source": [
    "### Why These Attributes Matter\n",
    "\n",
    "- `shape` and `ndim` are essential for reshaping and broadcasting.\n",
    "- `dtype` affects precision and compatibility.\n",
    "- `nbytes` helps optimize memory usage in large datasets.\n",
    "\n",
    "These attributes are foundational for efficient NumPy workflows.\n"
   ]
  },
  {
   "cell_type": "markdown",
   "id": "e763cf26-3b69-4c6f-a1ff-1542d0df5b82",
   "metadata": {},
   "source": [
    "## Array Indexing and Slicing in NumPy"
   ]
  },
  {
   "cell_type": "markdown",
   "id": "c548e651-8ad5-41bd-bb6c-8eedbd7b29f8",
   "metadata": {},
   "source": [
    "### Array Creation & Basic Indexing\n",
    "\n",
    "- **1D indexing**: use a single integer to pick an element.\n",
    "- **2D indexing**: use `[row, col]` to pick one element;  \n",
    "  a single index on a 2D array returns a full row;  \n",
    "  `:` selects all elements along that axis.\n",
    "\n",
    "Before slicing subarrays, it’s crucial to be comfortable with this basic element access.\n"
   ]
  },
  {
   "cell_type": "code",
   "execution_count": 80,
   "id": "b98d60f8-52d5-4976-9758-8aec1f66038c",
   "metadata": {},
   "outputs": [
    {
     "name": "stdout",
     "output_type": "stream",
     "text": [
      "x  = [0 1 2 3 4 5 6 7 8 9]\n",
      "x2 =\n",
      " [[5 0 3 3]\n",
      " [7 9 3 5]\n",
      " [2 4 7 6]]\n",
      "\n",
      "— 1D Indexing —\n",
      "x[0]   → 0\n",
      "x[5]   → 5\n",
      "x[-1]  → 9\n",
      "\n",
      "— 2D Indexing —\n",
      "x2[0, 0] → 5\n",
      "x2[1, 2] → 3\n",
      "x2[2]    → [2 4 7 6]\n",
      "x2[:, 3] → [3 5 6]\n"
     ]
    }
   ],
   "source": [
    "import numpy as np\n",
    "np.random.seed(0)\n",
    "\n",
    "# Create sample arrays\n",
    "x  = np.arange(10)                      # 1D array: [0,1,…,9]\n",
    "x2 = np.random.randint(0, 10, size=(3, 4))  # 2D array: shape (3,4)\n",
    "\n",
    "# Display arrays\n",
    "print(\"x  =\", x)\n",
    "print(\"x2 =\\n\", x2)\n",
    "\n",
    "# 1D indexing\n",
    "print(\"\\n— 1D Indexing —\")\n",
    "print(\"x[0]   →\", x[0])    # first element\n",
    "print(\"x[5]   →\", x[5])    # sixth element\n",
    "print(\"x[-1]  →\", x[-1])   # last element\n",
    "\n",
    "# 2D indexing\n",
    "print(\"\\n— 2D Indexing —\")\n",
    "print(\"x2[0, 0] →\", x2[0, 0])  # element at row 0, col 0\n",
    "print(\"x2[1, 2] →\", x2[1, 2])  # element at row 1, col 2\n",
    "print(\"x2[2]    →\", x2[2])     # entire third row\n",
    "print(\"x2[:, 3] →\", x2[:, 3])  # entire fourth column\n"
   ]
  },
  {
   "cell_type": "markdown",
   "id": "5bb4dd9b-dac5-4972-a308-5621fa70214e",
   "metadata": {},
   "source": [
    "### 1D Slicing\n",
    "\n",
    "- `x[:5]` takes elements `0–4`  \n",
    "- `x[5:]` takes elements `5–9`  \n",
    "- `x[4:7]` takes elements `4,5,6`  \n",
    "- Negative and step slicing lets us skip or reverse elements  \n",
    "- **Interactive:** What does `x[3:9:2]` return? Try it before moving on.\n"
   ]
  },
  {
   "cell_type": "code",
   "execution_count": 81,
   "id": "1b6987d3-4268-4501-8b19-f5559056944b",
   "metadata": {},
   "outputs": [
    {
     "name": "stdout",
     "output_type": "stream",
     "text": [
      "x[:5]   → [0 1 2 3 4]\n",
      "x[5:]   → [5 6 7 8 9]\n",
      "x[4:7]  → [4 5 6]\n",
      "x[::2]  → [0 2 4 6 8]\n",
      "x[1::2] → [1 3 5 7 9]\n"
     ]
    }
   ],
   "source": [
    "print(\"x[:5]   →\", x[:5])    # first five elements\n",
    "print(\"x[5:]   →\", x[5:])    # elements from index 5 onward\n",
    "print(\"x[4:7]  →\", x[4:7])   # indices 4,5,6\n",
    "print(\"x[::2]  →\", x[::2])   # every other element\n",
    "print(\"x[1::2] →\", x[1::2])  # every other, starting at 1\n"
   ]
  },
  {
   "cell_type": "markdown",
   "id": "b3484d14-ecb7-426c-a9dd-59353c05f434",
   "metadata": {},
   "source": [
    "### Reversing with Negative Step\n",
    "\n",
    "- `x[::-1]` reverses the array  \n",
    "- `x[start::-step]` walks backwards from `start`  \n",
    "- **Tricky:** What happens if you omit `start` in `x[::-2]`? (It starts from end, stepping by -2.)\n"
   ]
  },
  {
   "cell_type": "code",
   "execution_count": 82,
   "id": "a05852dc-31b5-4200-a9af-54fa334766ac",
   "metadata": {},
   "outputs": [
    {
     "name": "stdout",
     "output_type": "stream",
     "text": [
      "x[::-1]   → [9 8 7 6 5 4 3 2 1 0]\n",
      "x[5::-2] → [5 3 1]\n"
     ]
    }
   ],
   "source": [
    "print(\"x[::-1]   →\", x[::-1])     # reverse entire array\n",
    "print(\"x[5::-2] →\", x[5::-2])    # from index 5 down to 0, every other\n"
   ]
  },
  {
   "cell_type": "markdown",
   "id": "e48224e5-0df0-422b-99d5-c07de33f3a62",
   "metadata": {},
   "source": [
    "### 2D Slicing\n",
    "\n",
    "- Comma-separated slices: `x2[row_slice, col_slice]`  \n",
    "- `x2[:2, :3]` extracts a 2×3 block  \n",
    "- `x2[:3, ::2]` takes all rows, columns 0,2,…  \n",
    "- **Interactive:** Predict `x2[1:3, 1:4:2]` before running it.\n"
   ]
  },
  {
   "cell_type": "code",
   "execution_count": 85,
   "id": "cd72fe6b-e52e-45ed-aaa5-2a395a09723d",
   "metadata": {},
   "outputs": [
    {
     "name": "stdout",
     "output_type": "stream",
     "text": [
      "x2[:2, :3]  →\n",
      " [[5 0 3]\n",
      " [7 9 3]]\n",
      "x2[:3, ::2] →\n",
      " [[5 3]\n",
      " [7 3]\n",
      " [2 7]]\n"
     ]
    }
   ],
   "source": [
    "print(\"x2[:2, :3]  →\\n\", x2[:2, :3])   # first two rows, first three columns\n",
    "print(\"x2[:3, ::2] →\\n\", x2[:3, ::2])  # all rows, every other column\n"
   ]
  },
  {
   "cell_type": "markdown",
   "id": "531e9b14-f58d-41e7-a431-e6efaa44aa0e",
   "metadata": {},
   "source": [
    "### Reversing Rows and Columns\n",
    "\n",
    "- `[::-1, ::-1]` flips both dimensions  \n",
    "- Handy for rotating images or matrices by 180°  \n",
    "- **Tip:** Combine with other slices to extract mirrored subarrays.\n"
   ]
  },
  {
   "cell_type": "code",
   "execution_count": 86,
   "id": "c4ee36df-4b45-4bf8-a01c-60769b4cb8a5",
   "metadata": {},
   "outputs": [
    {
     "name": "stdout",
     "output_type": "stream",
     "text": [
      "x2[::-1, ::-1] →\n",
      " [[6 7 4 2]\n",
      " [5 3 9 7]\n",
      " [3 3 0 5]]\n"
     ]
    }
   ],
   "source": [
    "print(\"x2[::-1, ::-1] →\\n\", x2[::-1, ::-1])\n"
   ]
  },
  {
   "cell_type": "markdown",
   "id": "bf7326c7-5bdc-4d37-b8df-3fd83757ef4c",
   "metadata": {},
   "source": [
    "### Accessing Rows and Columns\n",
    "\n",
    "- `x2[:, 0]` is a 1D view of column 0  \n",
    "- `x2[1, :]` or `x2[1]` is row 1  \n",
    "- Omitting the second index defaults to `:`  \n",
    "- **Tricky:** What is the shape of `x2[:, 0]` vs `x2[0, :]`?\n"
   ]
  },
  {
   "cell_type": "code",
   "execution_count": 87,
   "id": "c1f8365d-3305-4de4-a213-d5cbb6276ede",
   "metadata": {},
   "outputs": [
    {
     "name": "stdout",
     "output_type": "stream",
     "text": [
      "First column: [5 7 2]\n",
      "Second row:   [7 9 3 5]\n",
      "Row vs slice: [2 4 7 6] [2 4 7 6]\n"
     ]
    }
   ],
   "source": [
    "print(\"First column:\", x2[:, 0])\n",
    "print(\"Second row:  \", x2[1, :])\n",
    "print(\"Row vs slice:\", x2[2], x2[2, :])\n"
   ]
  },
  {
   "cell_type": "markdown",
   "id": "7f74c16a-cdc4-4e49-a644-99e5482111fe",
   "metadata": {},
   "source": [
    "### Views vs. Copies\n",
    "\n",
    "- Slicing returns a **view** — it shares memory with the original  \n",
    "- Modifying `x2_sub` also changes `x2`  \n",
    "- Efficient for large data, but be cautious when mutating views.\n"
   ]
  },
  {
   "cell_type": "code",
   "execution_count": 88,
   "id": "ac11d96e-0494-4dc7-a0f1-7d831b9cd3aa",
   "metadata": {},
   "outputs": [
    {
     "name": "stdout",
     "output_type": "stream",
     "text": [
      "Subarray before:\n",
      " [[5 0]\n",
      " [7 9]]\n",
      "Subarray after:\n",
      " [[99  0]\n",
      " [ 7  9]]\n",
      "Original x2 changed:\n",
      " [[99  0  3  3]\n",
      " [ 7  9  3  5]\n",
      " [ 2  4  7  6]]\n"
     ]
    }
   ],
   "source": [
    "x2_sub = x2[:2, :2]\n",
    "print(\"Subarray before:\\n\", x2_sub)\n",
    "x2_sub[0, 0] = 99\n",
    "print(\"Subarray after:\\n\", x2_sub)\n",
    "print(\"Original x2 changed:\\n\", x2)\n"
   ]
  },
  {
   "cell_type": "markdown",
   "id": "98577374-4779-40cd-a88d-05f8072c4338",
   "metadata": {},
   "source": [
    "### Copying Data\n",
    "\n",
    "- Use `.copy()` to get an independent array  \n",
    "- Changes to the copy do **not** affect the original  \n",
    "- Useful when you need to preserve the source data unmodified.\n"
   ]
  },
  {
   "cell_type": "code",
   "execution_count": 90,
   "id": "c742f1d9-ef12-46ea-bd5b-51ab39a5f17f",
   "metadata": {},
   "outputs": [
    {
     "name": "stdout",
     "output_type": "stream",
     "text": [
      "Copy after change:\n",
      " [[42  0]\n",
      " [ 7  9]]\n",
      "Original x2 remains:\n",
      " [[99  0  3  3]\n",
      " [ 7  9  3  5]\n",
      " [ 2  4  7  6]]\n"
     ]
    }
   ],
   "source": [
    "x2_sub_copy = x2[:2, :2].copy()\n",
    "x2_sub_copy[0, 0] = 42\n",
    "\n",
    "print(\"Copy after change:\\n\", x2_sub_copy)\n",
    "print(\"Original x2 remains:\\n\", x2)\n"
   ]
  },
  {
   "cell_type": "code",
   "execution_count": null,
   "id": "762c6d16-0dab-4128-80a5-932003d3f69a",
   "metadata": {},
   "outputs": [],
   "source": []
  }
 ],
 "metadata": {
  "kernelspec": {
   "display_name": "Python (pandasenv)",
   "language": "python",
   "name": "pandasenv"
  },
  "language_info": {
   "codemirror_mode": {
    "name": "ipython",
    "version": 3
   },
   "file_extension": ".py",
   "mimetype": "text/x-python",
   "name": "python",
   "nbconvert_exporter": "python",
   "pygments_lexer": "ipython3",
   "version": "3.11.5"
  }
 },
 "nbformat": 4,
 "nbformat_minor": 5
}
